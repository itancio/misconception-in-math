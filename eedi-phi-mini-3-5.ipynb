{
 "cells": [
  {
   "cell_type": "markdown",
   "id": "e93c14de",
   "metadata": {
    "papermill": {
     "duration": 0.013566,
     "end_time": "2024-09-24T06:49:26.702367",
     "exception": false,
     "start_time": "2024-09-24T06:49:26.688801",
     "status": "completed"
    },
    "tags": []
   },
   "source": [
    "# Let's just ask Phi-Mini 3.5 what the misconception is...\n",
    "\n",
    "1: Take each test question - and create a DF of questions that \"support\" it using train data:\n",
    "* Question with same \"construct\"\n",
    "* Questions with same \"subject\"\n",
    "* Random questions if needed\n",
    "\n",
    "2: For each question / answer pair in the DF - we generate a message sequence\n",
    "\n",
    "3: Feed those ~15 messages into Phi-Mini 3.5.  As a final message - we give it the question / answer pair we want to predict on.\n",
    "\n",
    "4: Collect the misconceptions predictions from Phi!\n",
    "\n",
    "5: Use BGE to generate embeddings for all misconceptions in misconception_mapping.csv\n",
    "\n",
    "6: Use BGE to generate embeddings for LLM predicted misconceptions\n",
    "\n",
    "7: Use cosine similariy to identify 25 closest misconceptions in misconception_mapping to the LLM prediction\n",
    "\n",
    "### Credit to BGE / cosine similarity code here:\n",
    "### https://www.kaggle.com/code/pingfan/baseline-bge-cos-sim/"
   ]
  },
  {
   "cell_type": "markdown",
   "id": "ec2d8668",
   "metadata": {
    "papermill": {
     "duration": 0.012516,
     "end_time": "2024-09-24T06:49:26.727237",
     "exception": false,
     "start_time": "2024-09-24T06:49:26.714721",
     "status": "completed"
    },
    "tags": []
   },
   "source": [
    "# Borrow some whl files to run Phi with internet off"
   ]
  },
  {
   "cell_type": "code",
   "execution_count": 1,
   "id": "41c70f56",
   "metadata": {
    "execution": {
     "iopub.execute_input": "2024-09-24T06:49:26.753675Z",
     "iopub.status.busy": "2024-09-24T06:49:26.753084Z",
     "iopub.status.idle": "2024-09-24T06:49:51.078442Z",
     "shell.execute_reply": "2024-09-24T06:49:51.077423Z"
    },
    "papermill": {
     "duration": 24.341523,
     "end_time": "2024-09-24T06:49:51.080873",
     "exception": false,
     "start_time": "2024-09-24T06:49:26.739350",
     "status": "completed"
    },
    "tags": []
   },
   "outputs": [],
   "source": [
    "!pip install -q -U transformers --no-index --find-links /kaggle/input/hf-libraries/transformers"
   ]
  },
  {
   "cell_type": "markdown",
   "id": "d657ef13",
   "metadata": {
    "papermill": {
     "duration": 0.012023,
     "end_time": "2024-09-24T06:49:51.105582",
     "exception": false,
     "start_time": "2024-09-24T06:49:51.093559",
     "status": "completed"
    },
    "tags": []
   },
   "source": [
    "# Usual imports / misc."
   ]
  },
  {
   "cell_type": "code",
   "execution_count": 2,
   "id": "987b65ca",
   "metadata": {
    "execution": {
     "iopub.execute_input": "2024-09-24T06:49:51.131615Z",
     "iopub.status.busy": "2024-09-24T06:49:51.131281Z",
     "iopub.status.idle": "2024-09-24T06:50:10.085959Z",
     "shell.execute_reply": "2024-09-24T06:50:10.084922Z"
    },
    "papermill": {
     "duration": 18.970798,
     "end_time": "2024-09-24T06:50:10.088467",
     "exception": false,
     "start_time": "2024-09-24T06:49:51.117669",
     "status": "completed"
    },
    "tags": []
   },
   "outputs": [],
   "source": [
    "import sys \n",
    "import torch\n",
    "import random\n",
    "import numpy as np\n",
    "import pandas as pd\n",
    "import gc\n",
    "import time\n",
    "import random\n",
    "from tqdm import tqdm\n",
    "\n",
    "from pprint import pprint\n",
    "from IPython.display import display\n",
    "\n",
    "from sklearn.metrics.pairwise import cosine_similarity\n",
    "\n",
    "from transformers import pipeline, AutoTokenizer, AutoModelForCausalLM, AutoModel\n",
    "\n",
    "if (not torch.cuda.is_available()): print(\"Sorry - GPU required!\")\n",
    "    \n",
    "import logging\n",
    "logging.getLogger('transformers').setLevel(logging.ERROR)\n",
    "\n",
    "pd.set_option('display.max_colwidth', None)\n",
    "pd.set_option('display.max_rows', None)\n",
    "pd.set_option('display.width', None)"
   ]
  },
  {
   "cell_type": "markdown",
   "id": "9571c87c",
   "metadata": {
    "papermill": {
     "duration": 0.011953,
     "end_time": "2024-09-24T06:50:10.113253",
     "exception": false,
     "start_time": "2024-09-24T06:50:10.101300",
     "status": "completed"
    },
    "tags": []
   },
   "source": [
    "# A few configuration things..."
   ]
  },
  {
   "cell_type": "code",
   "execution_count": 3,
   "id": "076eab1e",
   "metadata": {
    "execution": {
     "iopub.execute_input": "2024-09-24T06:50:10.139030Z",
     "iopub.status.busy": "2024-09-24T06:50:10.138446Z",
     "iopub.status.idle": "2024-09-24T06:50:10.143186Z",
     "shell.execute_reply": "2024-09-24T06:50:10.142344Z"
    },
    "papermill": {
     "duration": 0.019678,
     "end_time": "2024-09-24T06:50:10.145070",
     "exception": false,
     "start_time": "2024-09-24T06:50:10.125392",
     "status": "completed"
    },
    "tags": []
   },
   "outputs": [],
   "source": [
    "# min / max example questions for prompt generation\n",
    "# for each question all answers with non-NAN misconceptions will be used\n",
    "min_example_questions = 5\n",
    "max_example_questions = 8\n",
    "\n",
    "#example question messages limited to this many words\n",
    "#assures we don't run out of GPU RAM\n",
    "#actual prompt for target not included in word count\n",
    "max_words_for_examples = 1500\n",
    "\n",
    "#maximum new tokens Phi will generate for responses\n",
    "max_new_tokens = 55"
   ]
  },
  {
   "cell_type": "markdown",
   "id": "4ad9e710",
   "metadata": {
    "papermill": {
     "duration": 0.012236,
     "end_time": "2024-09-24T06:50:10.169227",
     "exception": false,
     "start_time": "2024-09-24T06:50:10.156991",
     "status": "completed"
    },
    "tags": []
   },
   "source": [
    "# Load up Phi Mini!\n",
    "* We try to clean up before loading this cell - but if you re-run - you might run out of GPU memory..."
   ]
  },
  {
   "cell_type": "code",
   "execution_count": 4,
   "id": "d77eac50",
   "metadata": {
    "execution": {
     "iopub.execute_input": "2024-09-24T06:50:10.194773Z",
     "iopub.status.busy": "2024-09-24T06:50:10.194475Z",
     "iopub.status.idle": "2024-09-24T06:51:09.234930Z",
     "shell.execute_reply": "2024-09-24T06:51:09.234193Z"
    },
    "papermill": {
     "duration": 59.055693,
     "end_time": "2024-09-24T06:51:09.237075",
     "exception": false,
     "start_time": "2024-09-24T06:50:10.181382",
     "status": "completed"
    },
    "tags": []
   },
   "outputs": [
    {
     "data": {
      "application/vnd.jupyter.widget-view+json": {
       "model_id": "61bf4490e7624d8db29f102c339d1a00",
       "version_major": 2,
       "version_minor": 0
      },
      "text/plain": [
       "Loading checkpoint shards:   0%|          | 0/2 [00:00<?, ?it/s]"
      ]
     },
     "metadata": {},
     "output_type": "display_data"
    }
   ],
   "source": [
    "# Clear GPU memory and delete existing objects if they exist\n",
    "if torch.cuda.is_available():\n",
    "    torch.cuda.empty_cache()\n",
    "for obj in ['model', 'pipe', 'tokenizer']:\n",
    "    if obj in globals():\n",
    "        del globals()[obj]\n",
    "\n",
    "# Model configuration\n",
    "model_name = '/kaggle/input/phi-3.5-mini-instruct/pytorch/default/1'\n",
    "\n",
    "# Load tokenizer\n",
    "tokenizer = AutoTokenizer.from_pretrained(model_name)\n",
    "\n",
    "# Load model\n",
    "model = AutoModelForCausalLM.from_pretrained(\n",
    "    model_name,\n",
    "    torch_dtype=torch.bfloat16,\n",
    "    device_map=\"auto\",\n",
    "    trust_remote_code=True\n",
    ")\n",
    "\n",
    "# Create pipeline\n",
    "pipe = pipeline(\"text-generation\", model=model, tokenizer=tokenizer, trust_remote_code=True, max_new_tokens=max_new_tokens)"
   ]
  },
  {
   "cell_type": "markdown",
   "id": "494d67e4",
   "metadata": {
    "papermill": {
     "duration": 0.012341,
     "end_time": "2024-09-24T06:51:09.262317",
     "exception": false,
     "start_time": "2024-09-24T06:51:09.249976",
     "status": "completed"
    },
    "tags": []
   },
   "source": [
    "# Test out Phi"
   ]
  },
  {
   "cell_type": "code",
   "execution_count": 5,
   "id": "8050ee76",
   "metadata": {
    "execution": {
     "iopub.execute_input": "2024-09-24T06:51:09.288937Z",
     "iopub.status.busy": "2024-09-24T06:51:09.288098Z",
     "iopub.status.idle": "2024-09-24T06:51:13.385694Z",
     "shell.execute_reply": "2024-09-24T06:51:13.384791Z"
    },
    "papermill": {
     "duration": 4.113173,
     "end_time": "2024-09-24T06:51:13.387817",
     "exception": false,
     "start_time": "2024-09-24T06:51:09.274644",
     "status": "completed"
    },
    "tags": []
   },
   "outputs": [
    {
     "data": {
      "text/plain": [
       "[{'generated_text': [{'role': 'user',\n",
       "    'content': 'Tell me about your math skills.'},\n",
       "   {'role': 'assistant',\n",
       "    'content': \" I am Phi, a Microsoft language model, and I don't possess math skills or abilities in the traditional sense. However, I can assist with a wide range of mathematical problems, concepts, and questions.\\n\\nHere's how I can help with math\"}]}]"
      ]
     },
     "execution_count": 5,
     "metadata": {},
     "output_type": "execute_result"
    }
   ],
   "source": [
    "messages = [\n",
    "    {\"role\": \"user\", \"content\": \"Tell me about your math skills.\"},\n",
    "]\n",
    "\n",
    "pipe(messages)"
   ]
  },
  {
   "cell_type": "markdown",
   "id": "bbb66f0e",
   "metadata": {
    "papermill": {
     "duration": 0.012742,
     "end_time": "2024-09-24T06:51:13.413411",
     "exception": false,
     "start_time": "2024-09-24T06:51:13.400669",
     "status": "completed"
    },
    "tags": []
   },
   "source": [
    "# Look at Misconception Map"
   ]
  },
  {
   "cell_type": "code",
   "execution_count": 6,
   "id": "550f4b4c",
   "metadata": {
    "execution": {
     "iopub.execute_input": "2024-09-24T06:51:13.440247Z",
     "iopub.status.busy": "2024-09-24T06:51:13.439209Z",
     "iopub.status.idle": "2024-09-24T06:51:13.469637Z",
     "shell.execute_reply": "2024-09-24T06:51:13.468766Z"
    },
    "papermill": {
     "duration": 0.045768,
     "end_time": "2024-09-24T06:51:13.471508",
     "exception": false,
     "start_time": "2024-09-24T06:51:13.425740",
     "status": "completed"
    },
    "tags": []
   },
   "outputs": [
    {
     "data": {
      "text/html": [
       "<div>\n",
       "<style scoped>\n",
       "    .dataframe tbody tr th:only-of-type {\n",
       "        vertical-align: middle;\n",
       "    }\n",
       "\n",
       "    .dataframe tbody tr th {\n",
       "        vertical-align: top;\n",
       "    }\n",
       "\n",
       "    .dataframe thead th {\n",
       "        text-align: right;\n",
       "    }\n",
       "</style>\n",
       "<table border=\"1\" class=\"dataframe\">\n",
       "  <thead>\n",
       "    <tr style=\"text-align: right;\">\n",
       "      <th></th>\n",
       "      <th>MisconceptionId</th>\n",
       "      <th>MisconceptionName</th>\n",
       "    </tr>\n",
       "  </thead>\n",
       "  <tbody>\n",
       "    <tr>\n",
       "      <th>0</th>\n",
       "      <td>0</td>\n",
       "      <td>Does not know that angles in a triangle sum to 180 degrees</td>\n",
       "    </tr>\n",
       "    <tr>\n",
       "      <th>1</th>\n",
       "      <td>1</td>\n",
       "      <td>Uses dividing fractions method for multiplying fractions</td>\n",
       "    </tr>\n",
       "    <tr>\n",
       "      <th>2</th>\n",
       "      <td>2</td>\n",
       "      <td>Believes there are 100 degrees in a full turn</td>\n",
       "    </tr>\n",
       "    <tr>\n",
       "      <th>3</th>\n",
       "      <td>3</td>\n",
       "      <td>Thinks a quadratic without a non variable term, can not be factorised</td>\n",
       "    </tr>\n",
       "    <tr>\n",
       "      <th>4</th>\n",
       "      <td>4</td>\n",
       "      <td>Believes addition of terms and powers of terms are equivalent e.g. a + c = a^c</td>\n",
       "    </tr>\n",
       "    <tr>\n",
       "      <th>5</th>\n",
       "      <td>5</td>\n",
       "      <td>When measuring a reflex angle, gives the acute or obtuse angle that sums to 360 instead</td>\n",
       "    </tr>\n",
       "    <tr>\n",
       "      <th>6</th>\n",
       "      <td>6</td>\n",
       "      <td>Can identify the multiplier used to form an equivalent fraction but does not apply to the numerator</td>\n",
       "    </tr>\n",
       "    <tr>\n",
       "      <th>7</th>\n",
       "      <td>7</td>\n",
       "      <td>Believes gradient = change in y</td>\n",
       "    </tr>\n",
       "    <tr>\n",
       "      <th>8</th>\n",
       "      <td>8</td>\n",
       "      <td>Student thinks that any two angles along a straight line are equal</td>\n",
       "    </tr>\n",
       "    <tr>\n",
       "      <th>9</th>\n",
       "      <td>9</td>\n",
       "      <td>Thinks there are 180 degrees in a full turn</td>\n",
       "    </tr>\n",
       "  </tbody>\n",
       "</table>\n",
       "</div>"
      ],
      "text/plain": [
       "   MisconceptionId  \\\n",
       "0                0   \n",
       "1                1   \n",
       "2                2   \n",
       "3                3   \n",
       "4                4   \n",
       "5                5   \n",
       "6                6   \n",
       "7                7   \n",
       "8                8   \n",
       "9                9   \n",
       "\n",
       "                                                                                     MisconceptionName  \n",
       "0                                           Does not know that angles in a triangle sum to 180 degrees  \n",
       "1                                             Uses dividing fractions method for multiplying fractions  \n",
       "2                                                        Believes there are 100 degrees in a full turn  \n",
       "3                                Thinks a quadratic without a non variable term, can not be factorised  \n",
       "4                       Believes addition of terms and powers of terms are equivalent e.g. a + c = a^c  \n",
       "5              When measuring a reflex angle, gives the acute or obtuse angle that sums to 360 instead  \n",
       "6  Can identify the multiplier used to form an equivalent fraction but does not apply to the numerator  \n",
       "7                                                                      Believes gradient = change in y  \n",
       "8                                   Student thinks that any two angles along a straight line are equal  \n",
       "9                                                          Thinks there are 180 degrees in a full turn  "
      ]
     },
     "execution_count": 6,
     "metadata": {},
     "output_type": "execute_result"
    }
   ],
   "source": [
    "misc_map_df = pd.read_csv(\"/kaggle/input/eedi-mining-misconceptions-in-mathematics/misconception_mapping.csv\")\n",
    "misc_map_df.head(10)"
   ]
  },
  {
   "cell_type": "markdown",
   "id": "b7cbde22",
   "metadata": {
    "papermill": {
     "duration": 0.012708,
     "end_time": "2024-09-24T06:51:13.496904",
     "exception": false,
     "start_time": "2024-09-24T06:51:13.484196",
     "status": "completed"
    },
    "tags": []
   },
   "source": [
    "# Look at Train"
   ]
  },
  {
   "cell_type": "code",
   "execution_count": 7,
   "id": "ac9812ad",
   "metadata": {
    "execution": {
     "iopub.execute_input": "2024-09-24T06:51:13.523939Z",
     "iopub.status.busy": "2024-09-24T06:51:13.523170Z",
     "iopub.status.idle": "2024-09-24T06:51:13.573617Z",
     "shell.execute_reply": "2024-09-24T06:51:13.572755Z"
    },
    "papermill": {
     "duration": 0.066086,
     "end_time": "2024-09-24T06:51:13.575678",
     "exception": false,
     "start_time": "2024-09-24T06:51:13.509592",
     "status": "completed"
    },
    "tags": []
   },
   "outputs": [
    {
     "data": {
      "text/html": [
       "<div>\n",
       "<style scoped>\n",
       "    .dataframe tbody tr th:only-of-type {\n",
       "        vertical-align: middle;\n",
       "    }\n",
       "\n",
       "    .dataframe tbody tr th {\n",
       "        vertical-align: top;\n",
       "    }\n",
       "\n",
       "    .dataframe thead th {\n",
       "        text-align: right;\n",
       "    }\n",
       "</style>\n",
       "<table border=\"1\" class=\"dataframe\">\n",
       "  <thead>\n",
       "    <tr style=\"text-align: right;\">\n",
       "      <th></th>\n",
       "      <th>QuestionId</th>\n",
       "      <th>ConstructId</th>\n",
       "      <th>ConstructName</th>\n",
       "      <th>SubjectId</th>\n",
       "      <th>SubjectName</th>\n",
       "      <th>CorrectAnswer</th>\n",
       "      <th>QuestionText</th>\n",
       "      <th>AnswerAText</th>\n",
       "      <th>AnswerBText</th>\n",
       "      <th>AnswerCText</th>\n",
       "      <th>AnswerDText</th>\n",
       "      <th>MisconceptionAId</th>\n",
       "      <th>MisconceptionBId</th>\n",
       "      <th>MisconceptionCId</th>\n",
       "      <th>MisconceptionDId</th>\n",
       "    </tr>\n",
       "  </thead>\n",
       "  <tbody>\n",
       "    <tr>\n",
       "      <th>0</th>\n",
       "      <td>0</td>\n",
       "      <td>856</td>\n",
       "      <td>Use the order of operations to carry out calculations involving powers</td>\n",
       "      <td>33</td>\n",
       "      <td>BIDMAS</td>\n",
       "      <td>A</td>\n",
       "      <td>\\[\\n3 \\times 2+4-5\\n\\]\\nWhere do the brackets need to go to make the answer equal \\( 13 \\) ?</td>\n",
       "      <td>\\( 3 \\times(2+4)-5 \\)</td>\n",
       "      <td>\\( 3 \\times 2+(4-5) \\)</td>\n",
       "      <td>\\( 3 \\times(2+4-5) \\)</td>\n",
       "      <td>Does not need brackets</td>\n",
       "      <td>NaN</td>\n",
       "      <td>NaN</td>\n",
       "      <td>NaN</td>\n",
       "      <td>1672.0</td>\n",
       "    </tr>\n",
       "    <tr>\n",
       "      <th>1</th>\n",
       "      <td>1</td>\n",
       "      <td>1612</td>\n",
       "      <td>Simplify an algebraic fraction by factorising the numerator</td>\n",
       "      <td>1077</td>\n",
       "      <td>Simplifying Algebraic Fractions</td>\n",
       "      <td>D</td>\n",
       "      <td>Simplify the following, if possible: \\( \\frac{m^{2}+2 m-3}{m-3} \\)</td>\n",
       "      <td>\\( m+1 \\)</td>\n",
       "      <td>\\( m+2 \\)</td>\n",
       "      <td>\\( m-1 \\)</td>\n",
       "      <td>Does not simplify</td>\n",
       "      <td>2142.0</td>\n",
       "      <td>143.0</td>\n",
       "      <td>2142.0</td>\n",
       "      <td>NaN</td>\n",
       "    </tr>\n",
       "    <tr>\n",
       "      <th>2</th>\n",
       "      <td>2</td>\n",
       "      <td>2774</td>\n",
       "      <td>Calculate the range from a list of data</td>\n",
       "      <td>339</td>\n",
       "      <td>Range and Interquartile Range from a List of Data</td>\n",
       "      <td>B</td>\n",
       "      <td>Tom and Katie are discussing the \\( 5 \\) plants with these heights:\\n\\( 24 \\mathrm{~cm}, 17 \\mathrm{~cm}, 42 \\mathrm{~cm}, 26 \\mathrm{~cm}, 13 \\mathrm{~cm} \\)\\nTom says if all the plants were cut in half, the range wouldn't change.\\nKatie says if all the plants grew by \\( 3 \\mathrm{~cm} \\) each, the range wouldn't change.\\nWho do you agree with?</td>\n",
       "      <td>Only\\nTom</td>\n",
       "      <td>Only\\nKatie</td>\n",
       "      <td>Both Tom and Katie</td>\n",
       "      <td>Neither is correct</td>\n",
       "      <td>1287.0</td>\n",
       "      <td>NaN</td>\n",
       "      <td>1287.0</td>\n",
       "      <td>1073.0</td>\n",
       "    </tr>\n",
       "    <tr>\n",
       "      <th>3</th>\n",
       "      <td>3</td>\n",
       "      <td>2377</td>\n",
       "      <td>Recall and use the intersecting diagonals properties of a rectangle</td>\n",
       "      <td>88</td>\n",
       "      <td>Properties of Quadrilaterals</td>\n",
       "      <td>C</td>\n",
       "      <td>The angles highlighted on this rectangle with different length sides can never be... ![A rectangle with the diagonals drawn in. The angle on the right hand side at the centre is highlighted in red and the angle at the bottom at the centre is highlighted in yellow.]()</td>\n",
       "      <td>acute</td>\n",
       "      <td>obtuse</td>\n",
       "      <td>\\( 90^{\\circ} \\)</td>\n",
       "      <td>Not enough information</td>\n",
       "      <td>1180.0</td>\n",
       "      <td>1180.0</td>\n",
       "      <td>NaN</td>\n",
       "      <td>1180.0</td>\n",
       "    </tr>\n",
       "    <tr>\n",
       "      <th>4</th>\n",
       "      <td>4</td>\n",
       "      <td>3387</td>\n",
       "      <td>Substitute positive integer values into formulae involving powers or roots</td>\n",
       "      <td>67</td>\n",
       "      <td>Substitution into Formula</td>\n",
       "      <td>A</td>\n",
       "      <td>The equation \\( f=3 r^{2}+3 \\) is used to find values in the table below. What is the value covered by the star? \\begin{tabular}{|c|c|c|c|c|}\\n\\hline\\( r \\) &amp; \\( 1 \\) &amp; \\( 2 \\) &amp; \\( 3 \\) &amp; \\( 4 \\) \\\\\\n\\hline\\( f \\) &amp; \\( 6 \\) &amp; \\( 15 \\) &amp; \\( \\color{gold}\\bigstar \\) &amp; \\\\\\n\\hline\\n\\end{tabular}</td>\n",
       "      <td>\\( 30 \\)</td>\n",
       "      <td>\\( 27 \\)</td>\n",
       "      <td>\\( 51 \\)</td>\n",
       "      <td>\\( 24 \\)</td>\n",
       "      <td>NaN</td>\n",
       "      <td>NaN</td>\n",
       "      <td>NaN</td>\n",
       "      <td>1818.0</td>\n",
       "    </tr>\n",
       "    <tr>\n",
       "      <th>5</th>\n",
       "      <td>5</td>\n",
       "      <td>2052</td>\n",
       "      <td>Identify a unit of area</td>\n",
       "      <td>75</td>\n",
       "      <td>Area of Simple Shapes</td>\n",
       "      <td>D</td>\n",
       "      <td>James has answered a question on the area of a trapezium and got an answer of \\( 54 \\).\\n\\nBehind the star he has written the units that he used.\\n\\n\\(\\n54 \\, \\bigstar \\n\\)\\n\\nWhich of the following units could be correct?</td>\n",
       "      <td>\\( m \\)</td>\n",
       "      <td>\\( \\mathrm{cm} \\)</td>\n",
       "      <td>\\( \\mathrm{km}^{3} \\)</td>\n",
       "      <td>\\( \\mathrm{mm}^{2} \\)</td>\n",
       "      <td>686.0</td>\n",
       "      <td>686.0</td>\n",
       "      <td>686.0</td>\n",
       "      <td>NaN</td>\n",
       "    </tr>\n",
       "    <tr>\n",
       "      <th>6</th>\n",
       "      <td>6</td>\n",
       "      <td>376</td>\n",
       "      <td>Convert two digit integer percentages to fractions</td>\n",
       "      <td>238</td>\n",
       "      <td>Converting between Fractions and Percentages</td>\n",
       "      <td>B</td>\n",
       "      <td>Convert this percentage to a fraction\\n\\( 62 \\% \\)</td>\n",
       "      <td>\\( \\frac{62}{10} \\)</td>\n",
       "      <td>\\( \\frac{31}{50} \\)</td>\n",
       "      <td>\\( \\frac{6}{2} \\)</td>\n",
       "      <td>None of these</td>\n",
       "      <td>329.0</td>\n",
       "      <td>NaN</td>\n",
       "      <td>847.0</td>\n",
       "      <td>329.0</td>\n",
       "    </tr>\n",
       "    <tr>\n",
       "      <th>7</th>\n",
       "      <td>7</td>\n",
       "      <td>314</td>\n",
       "      <td>Divide decimals by 10</td>\n",
       "      <td>224</td>\n",
       "      <td>Multiplying and Dividing with Decimals</td>\n",
       "      <td>A</td>\n",
       "      <td>\\( 43.2 \\div 10= \\)</td>\n",
       "      <td>\\( 4.32 \\)</td>\n",
       "      <td>\\( 0.432 \\)</td>\n",
       "      <td>\\( 33.2 \\)</td>\n",
       "      <td>\\( 43.02 \\)</td>\n",
       "      <td>NaN</td>\n",
       "      <td>2123.0</td>\n",
       "      <td>2273.0</td>\n",
       "      <td>2133.0</td>\n",
       "    </tr>\n",
       "    <tr>\n",
       "      <th>8</th>\n",
       "      <td>8</td>\n",
       "      <td>435</td>\n",
       "      <td>Subtract proper fractions with different denominators which do not share a common factor</td>\n",
       "      <td>230</td>\n",
       "      <td>Adding and Subtracting Fractions</td>\n",
       "      <td>A</td>\n",
       "      <td>\\(\\n\\frac{4}{5}-\\frac{1}{3}=\\frac{\\bigstar}{15}\\n\\)\\nWhat should replace the star?</td>\n",
       "      <td>\\( 7 \\)</td>\n",
       "      <td>\\( 5 \\)</td>\n",
       "      <td>\\( 17 \\)</td>\n",
       "      <td>\\( 3 \\)</td>\n",
       "      <td>NaN</td>\n",
       "      <td>907.0</td>\n",
       "      <td>1514.0</td>\n",
       "      <td>907.0</td>\n",
       "    </tr>\n",
       "    <tr>\n",
       "      <th>9</th>\n",
       "      <td>9</td>\n",
       "      <td>1321</td>\n",
       "      <td>Identify horizontal translations in the form f(x) = for non-trigonometric functions</td>\n",
       "      <td>164</td>\n",
       "      <td>Transformations of functions in the form f(x)</td>\n",
       "      <td>C</td>\n",
       "      <td>What transformation maps the graph of\\n\\(y=f(x)\\n\\)\\nto the graph of\\n\\(\\ny=f(x-3)\\n\\)</td>\n",
       "      <td>Translation by vector\\n\\(\\n\\left[\\begin{array}{l}\\n0 \\\\\\n3\\n\\end{array}\\right]\\n\\)</td>\n",
       "      <td>Translation by vector\\n\\(\\n\\left[\\begin{array}{c}\\n0 \\\\\\n-3\\n\\end{array}\\right]\\n\\)</td>\n",
       "      <td>Translation by vector\\n\\(\\n\\left[\\begin{array}{l}\\n3 \\\\\\n0\\n\\end{array}\\right]\\n\\)</td>\n",
       "      <td>Translation by vector\\n\\(\\n\\left[\\begin{array}{r}\\n-3 \\\\\\n0\\n\\end{array}\\right]\\n\\)</td>\n",
       "      <td>1889.0</td>\n",
       "      <td>1234.0</td>\n",
       "      <td>NaN</td>\n",
       "      <td>1312.0</td>\n",
       "    </tr>\n",
       "  </tbody>\n",
       "</table>\n",
       "</div>"
      ],
      "text/plain": [
       "   QuestionId  ConstructId  \\\n",
       "0           0          856   \n",
       "1           1         1612   \n",
       "2           2         2774   \n",
       "3           3         2377   \n",
       "4           4         3387   \n",
       "5           5         2052   \n",
       "6           6          376   \n",
       "7           7          314   \n",
       "8           8          435   \n",
       "9           9         1321   \n",
       "\n",
       "                                                                              ConstructName  \\\n",
       "0                    Use the order of operations to carry out calculations involving powers   \n",
       "1                               Simplify an algebraic fraction by factorising the numerator   \n",
       "2                                                   Calculate the range from a list of data   \n",
       "3                       Recall and use the intersecting diagonals properties of a rectangle   \n",
       "4                Substitute positive integer values into formulae involving powers or roots   \n",
       "5                                                                   Identify a unit of area   \n",
       "6                                        Convert two digit integer percentages to fractions   \n",
       "7                                                                     Divide decimals by 10   \n",
       "8  Subtract proper fractions with different denominators which do not share a common factor   \n",
       "9       Identify horizontal translations in the form f(x) = for non-trigonometric functions   \n",
       "\n",
       "   SubjectId                                        SubjectName CorrectAnswer  \\\n",
       "0         33                                             BIDMAS             A   \n",
       "1       1077                    Simplifying Algebraic Fractions             D   \n",
       "2        339  Range and Interquartile Range from a List of Data             B   \n",
       "3         88                       Properties of Quadrilaterals             C   \n",
       "4         67                          Substitution into Formula             A   \n",
       "5         75                              Area of Simple Shapes             D   \n",
       "6        238       Converting between Fractions and Percentages             B   \n",
       "7        224             Multiplying and Dividing with Decimals             A   \n",
       "8        230                   Adding and Subtracting Fractions             A   \n",
       "9        164      Transformations of functions in the form f(x)             C   \n",
       "\n",
       "                                                                                                                                                                                                                                                                                                                                                  QuestionText  \\\n",
       "0                                                                                                                                                                                                                                                                 \\[\\n3 \\times 2+4-5\\n\\]\\nWhere do the brackets need to go to make the answer equal \\( 13 \\) ?   \n",
       "1                                                                                                                                                                                                                                                                                           Simplify the following, if possible: \\( \\frac{m^{2}+2 m-3}{m-3} \\)   \n",
       "2  Tom and Katie are discussing the \\( 5 \\) plants with these heights:\\n\\( 24 \\mathrm{~cm}, 17 \\mathrm{~cm}, 42 \\mathrm{~cm}, 26 \\mathrm{~cm}, 13 \\mathrm{~cm} \\)\\nTom says if all the plants were cut in half, the range wouldn't change.\\nKatie says if all the plants grew by \\( 3 \\mathrm{~cm} \\) each, the range wouldn't change.\\nWho do you agree with?   \n",
       "3                                                                                  The angles highlighted on this rectangle with different length sides can never be... ![A rectangle with the diagonals drawn in. The angle on the right hand side at the centre is highlighted in red and the angle at the bottom at the centre is highlighted in yellow.]()   \n",
       "4                                                         The equation \\( f=3 r^{2}+3 \\) is used to find values in the table below. What is the value covered by the star? \\begin{tabular}{|c|c|c|c|c|}\\n\\hline\\( r \\) & \\( 1 \\) & \\( 2 \\) & \\( 3 \\) & \\( 4 \\) \\\\\\n\\hline\\( f \\) & \\( 6 \\) & \\( 15 \\) & \\( \\color{gold}\\bigstar \\) & \\\\\\n\\hline\\n\\end{tabular}   \n",
       "5                                                                                                                               James has answered a question on the area of a trapezium and got an answer of \\( 54 \\).\\n\\nBehind the star he has written the units that he used.\\n\\n\\(\\n54 \\, \\bigstar \\n\\)\\n\\nWhich of the following units could be correct?   \n",
       "6                                                                                                                                                                                                                                                                                                           Convert this percentage to a fraction\\n\\( 62 \\% \\)   \n",
       "7                                                                                                                                                                                                                                                                                                                                          \\( 43.2 \\div 10= \\)   \n",
       "8                                                                                                                                                                                                                                                                           \\(\\n\\frac{4}{5}-\\frac{1}{3}=\\frac{\\bigstar}{15}\\n\\)\\nWhat should replace the star?   \n",
       "9                                                                                                                                                                                                                                                                       What transformation maps the graph of\\n\\(y=f(x)\\n\\)\\nto the graph of\\n\\(\\ny=f(x-3)\\n\\)   \n",
       "\n",
       "                                                                          AnswerAText  \\\n",
       "0                                                               \\( 3 \\times(2+4)-5 \\)   \n",
       "1                                                                           \\( m+1 \\)   \n",
       "2                                                                           Only\\nTom   \n",
       "3                                                                               acute   \n",
       "4                                                                            \\( 30 \\)   \n",
       "5                                                                             \\( m \\)   \n",
       "6                                                                 \\( \\frac{62}{10} \\)   \n",
       "7                                                                          \\( 4.32 \\)   \n",
       "8                                                                             \\( 7 \\)   \n",
       "9  Translation by vector\\n\\(\\n\\left[\\begin{array}{l}\\n0 \\\\\\n3\\n\\end{array}\\right]\\n\\)   \n",
       "\n",
       "                                                                           AnswerBText  \\\n",
       "0                                                               \\( 3 \\times 2+(4-5) \\)   \n",
       "1                                                                            \\( m+2 \\)   \n",
       "2                                                                          Only\\nKatie   \n",
       "3                                                                               obtuse   \n",
       "4                                                                             \\( 27 \\)   \n",
       "5                                                                    \\( \\mathrm{cm} \\)   \n",
       "6                                                                  \\( \\frac{31}{50} \\)   \n",
       "7                                                                          \\( 0.432 \\)   \n",
       "8                                                                              \\( 5 \\)   \n",
       "9  Translation by vector\\n\\(\\n\\left[\\begin{array}{c}\\n0 \\\\\\n-3\\n\\end{array}\\right]\\n\\)   \n",
       "\n",
       "                                                                          AnswerCText  \\\n",
       "0                                                               \\( 3 \\times(2+4-5) \\)   \n",
       "1                                                                           \\( m-1 \\)   \n",
       "2                                                                  Both Tom and Katie   \n",
       "3                                                                    \\( 90^{\\circ} \\)   \n",
       "4                                                                            \\( 51 \\)   \n",
       "5                                                               \\( \\mathrm{km}^{3} \\)   \n",
       "6                                                                   \\( \\frac{6}{2} \\)   \n",
       "7                                                                          \\( 33.2 \\)   \n",
       "8                                                                            \\( 17 \\)   \n",
       "9  Translation by vector\\n\\(\\n\\left[\\begin{array}{l}\\n3 \\\\\\n0\\n\\end{array}\\right]\\n\\)   \n",
       "\n",
       "                                                                           AnswerDText  \\\n",
       "0                                                               Does not need brackets   \n",
       "1                                                                    Does not simplify   \n",
       "2                                                                   Neither is correct   \n",
       "3                                                               Not enough information   \n",
       "4                                                                             \\( 24 \\)   \n",
       "5                                                                \\( \\mathrm{mm}^{2} \\)   \n",
       "6                                                                        None of these   \n",
       "7                                                                          \\( 43.02 \\)   \n",
       "8                                                                              \\( 3 \\)   \n",
       "9  Translation by vector\\n\\(\\n\\left[\\begin{array}{r}\\n-3 \\\\\\n0\\n\\end{array}\\right]\\n\\)   \n",
       "\n",
       "   MisconceptionAId  MisconceptionBId  MisconceptionCId  MisconceptionDId  \n",
       "0               NaN               NaN               NaN            1672.0  \n",
       "1            2142.0             143.0            2142.0               NaN  \n",
       "2            1287.0               NaN            1287.0            1073.0  \n",
       "3            1180.0            1180.0               NaN            1180.0  \n",
       "4               NaN               NaN               NaN            1818.0  \n",
       "5             686.0             686.0             686.0               NaN  \n",
       "6             329.0               NaN             847.0             329.0  \n",
       "7               NaN            2123.0            2273.0            2133.0  \n",
       "8               NaN             907.0            1514.0             907.0  \n",
       "9            1889.0            1234.0               NaN            1312.0  "
      ]
     },
     "execution_count": 7,
     "metadata": {},
     "output_type": "execute_result"
    }
   ],
   "source": [
    "train_df = pd.read_csv(\"/kaggle/input/eedi-mining-misconceptions-in-mathematics/train.csv\")\n",
    "train_df.head(10)"
   ]
  },
  {
   "cell_type": "markdown",
   "id": "337cd334",
   "metadata": {
    "papermill": {
     "duration": 0.012939,
     "end_time": "2024-09-24T06:51:13.602223",
     "exception": false,
     "start_time": "2024-09-24T06:51:13.589284",
     "status": "completed"
    },
    "tags": []
   },
   "source": [
    "# Look at Test"
   ]
  },
  {
   "cell_type": "code",
   "execution_count": 8,
   "id": "57088437",
   "metadata": {
    "execution": {
     "iopub.execute_input": "2024-09-24T06:51:13.630530Z",
     "iopub.status.busy": "2024-09-24T06:51:13.630218Z",
     "iopub.status.idle": "2024-09-24T06:51:13.646030Z",
     "shell.execute_reply": "2024-09-24T06:51:13.645225Z"
    },
    "papermill": {
     "duration": 0.032461,
     "end_time": "2024-09-24T06:51:13.647993",
     "exception": false,
     "start_time": "2024-09-24T06:51:13.615532",
     "status": "completed"
    },
    "tags": []
   },
   "outputs": [
    {
     "data": {
      "text/html": [
       "<div>\n",
       "<style scoped>\n",
       "    .dataframe tbody tr th:only-of-type {\n",
       "        vertical-align: middle;\n",
       "    }\n",
       "\n",
       "    .dataframe tbody tr th {\n",
       "        vertical-align: top;\n",
       "    }\n",
       "\n",
       "    .dataframe thead th {\n",
       "        text-align: right;\n",
       "    }\n",
       "</style>\n",
       "<table border=\"1\" class=\"dataframe\">\n",
       "  <thead>\n",
       "    <tr style=\"text-align: right;\">\n",
       "      <th></th>\n",
       "      <th>QuestionId</th>\n",
       "      <th>ConstructId</th>\n",
       "      <th>ConstructName</th>\n",
       "      <th>SubjectId</th>\n",
       "      <th>SubjectName</th>\n",
       "      <th>CorrectAnswer</th>\n",
       "      <th>QuestionText</th>\n",
       "      <th>AnswerAText</th>\n",
       "      <th>AnswerBText</th>\n",
       "      <th>AnswerCText</th>\n",
       "      <th>AnswerDText</th>\n",
       "    </tr>\n",
       "  </thead>\n",
       "  <tbody>\n",
       "    <tr>\n",
       "      <th>0</th>\n",
       "      <td>1869</td>\n",
       "      <td>856</td>\n",
       "      <td>Use the order of operations to carry out calculations involving powers</td>\n",
       "      <td>33</td>\n",
       "      <td>BIDMAS</td>\n",
       "      <td>A</td>\n",
       "      <td>\\[\\n3 \\times 2+4-5\\n\\]\\nWhere do the brackets need to go to make the answer equal \\( 13 \\) ?</td>\n",
       "      <td>\\( 3 \\times(2+4)-5 \\)</td>\n",
       "      <td>\\( 3 \\times 2+(4-5) \\)</td>\n",
       "      <td>\\( 3 \\times(2+4-5) \\)</td>\n",
       "      <td>Does not need brackets</td>\n",
       "    </tr>\n",
       "    <tr>\n",
       "      <th>1</th>\n",
       "      <td>1870</td>\n",
       "      <td>1612</td>\n",
       "      <td>Simplify an algebraic fraction by factorising the numerator</td>\n",
       "      <td>1077</td>\n",
       "      <td>Simplifying Algebraic Fractions</td>\n",
       "      <td>D</td>\n",
       "      <td>Simplify the following, if possible: \\( \\frac{m^{2}+2 m-3}{m-3} \\)</td>\n",
       "      <td>\\( m+1 \\)</td>\n",
       "      <td>\\( m+2 \\)</td>\n",
       "      <td>\\( m-1 \\)</td>\n",
       "      <td>Does not simplify</td>\n",
       "    </tr>\n",
       "    <tr>\n",
       "      <th>2</th>\n",
       "      <td>1871</td>\n",
       "      <td>2774</td>\n",
       "      <td>Calculate the range from a list of data</td>\n",
       "      <td>339</td>\n",
       "      <td>Range and Interquartile Range from a List of Data</td>\n",
       "      <td>B</td>\n",
       "      <td>Tom and Katie are discussing the \\( 5 \\) plants with these heights:\\n\\( 24 \\mathrm{~cm}, 17 \\mathrm{~cm}, 42 \\mathrm{~cm}, 26 \\mathrm{~cm}, 13 \\mathrm{~cm} \\)\\nTom says if all the plants were cut in half, the range wouldn't change.\\nKatie says if all the plants grew by \\( 3 \\mathrm{~cm} \\) each, the range wouldn't change.\\nWho do you agree with?</td>\n",
       "      <td>Only\\nTom</td>\n",
       "      <td>Only\\nKatie</td>\n",
       "      <td>Both Tom and Katie</td>\n",
       "      <td>Neither is correct</td>\n",
       "    </tr>\n",
       "  </tbody>\n",
       "</table>\n",
       "</div>"
      ],
      "text/plain": [
       "   QuestionId  ConstructId  \\\n",
       "0        1869          856   \n",
       "1        1870         1612   \n",
       "2        1871         2774   \n",
       "\n",
       "                                                            ConstructName  \\\n",
       "0  Use the order of operations to carry out calculations involving powers   \n",
       "1             Simplify an algebraic fraction by factorising the numerator   \n",
       "2                                 Calculate the range from a list of data   \n",
       "\n",
       "   SubjectId                                        SubjectName CorrectAnswer  \\\n",
       "0         33                                             BIDMAS             A   \n",
       "1       1077                    Simplifying Algebraic Fractions             D   \n",
       "2        339  Range and Interquartile Range from a List of Data             B   \n",
       "\n",
       "                                                                                                                                                                                                                                                                                                                                                  QuestionText  \\\n",
       "0                                                                                                                                                                                                                                                                 \\[\\n3 \\times 2+4-5\\n\\]\\nWhere do the brackets need to go to make the answer equal \\( 13 \\) ?   \n",
       "1                                                                                                                                                                                                                                                                                           Simplify the following, if possible: \\( \\frac{m^{2}+2 m-3}{m-3} \\)   \n",
       "2  Tom and Katie are discussing the \\( 5 \\) plants with these heights:\\n\\( 24 \\mathrm{~cm}, 17 \\mathrm{~cm}, 42 \\mathrm{~cm}, 26 \\mathrm{~cm}, 13 \\mathrm{~cm} \\)\\nTom says if all the plants were cut in half, the range wouldn't change.\\nKatie says if all the plants grew by \\( 3 \\mathrm{~cm} \\) each, the range wouldn't change.\\nWho do you agree with?   \n",
       "\n",
       "             AnswerAText             AnswerBText            AnswerCText  \\\n",
       "0  \\( 3 \\times(2+4)-5 \\)  \\( 3 \\times 2+(4-5) \\)  \\( 3 \\times(2+4-5) \\)   \n",
       "1              \\( m+1 \\)               \\( m+2 \\)              \\( m-1 \\)   \n",
       "2              Only\\nTom             Only\\nKatie     Both Tom and Katie   \n",
       "\n",
       "              AnswerDText  \n",
       "0  Does not need brackets  \n",
       "1       Does not simplify  \n",
       "2      Neither is correct  "
      ]
     },
     "execution_count": 8,
     "metadata": {},
     "output_type": "execute_result"
    }
   ],
   "source": [
    "test_df = pd.read_csv(\"/kaggle/input/eedi-mining-misconceptions-in-mathematics/test.csv\")\n",
    "test_df.head(10)"
   ]
  },
  {
   "cell_type": "markdown",
   "id": "be9004a1",
   "metadata": {
    "papermill": {
     "duration": 0.013517,
     "end_time": "2024-09-24T06:51:13.675675",
     "exception": false,
     "start_time": "2024-09-24T06:51:13.662158",
     "status": "completed"
    },
    "tags": []
   },
   "source": [
    "# Generate a DF optimized for use as LLM prompting text\n",
    "* Generates messages for with requested number of questions (each question will have multiple answers...)\n",
    "* Prioritizes questions with requested construct\n",
    "* Secondarily, prioritizes questions with requested construct\n",
    "* If more questions are still needed - chosen at random"
   ]
  },
  {
   "cell_type": "code",
   "execution_count": 9,
   "id": "ce5cf1c8",
   "metadata": {
    "execution": {
     "iopub.execute_input": "2024-09-24T06:51:13.704700Z",
     "iopub.status.busy": "2024-09-24T06:51:13.703889Z",
     "iopub.status.idle": "2024-09-24T06:51:13.742840Z",
     "shell.execute_reply": "2024-09-24T06:51:13.741944Z"
    },
    "papermill": {
     "duration": 0.055453,
     "end_time": "2024-09-24T06:51:13.744986",
     "exception": false,
     "start_time": "2024-09-24T06:51:13.689533",
     "status": "completed"
    },
    "tags": []
   },
   "outputs": [
    {
     "name": "stdout",
     "output_type": "stream",
     "text": [
      "Matched ConstructId 2052: 2 rows\n",
      "Added rows from SubjectId 75: 3 rows\n",
      "\n",
      "Final DataFrame composition:\n",
      "ConstructId matches: 2\n",
      "SubjectId matches: 3\n",
      "Random additions: 0\n",
      "Total rows: 5\n"
     ]
    },
    {
     "data": {
      "text/html": [
       "<div>\n",
       "<style scoped>\n",
       "    .dataframe tbody tr th:only-of-type {\n",
       "        vertical-align: middle;\n",
       "    }\n",
       "\n",
       "    .dataframe tbody tr th {\n",
       "        vertical-align: top;\n",
       "    }\n",
       "\n",
       "    .dataframe thead th {\n",
       "        text-align: right;\n",
       "    }\n",
       "</style>\n",
       "<table border=\"1\" class=\"dataframe\">\n",
       "  <thead>\n",
       "    <tr style=\"text-align: right;\">\n",
       "      <th></th>\n",
       "      <th>QuestionId</th>\n",
       "      <th>ConstructId</th>\n",
       "      <th>ConstructName</th>\n",
       "      <th>SubjectId</th>\n",
       "      <th>SubjectName</th>\n",
       "      <th>CorrectAnswer</th>\n",
       "      <th>QuestionText</th>\n",
       "      <th>AnswerAText</th>\n",
       "      <th>AnswerBText</th>\n",
       "      <th>AnswerCText</th>\n",
       "      <th>AnswerDText</th>\n",
       "      <th>MisconceptionAId</th>\n",
       "      <th>MisconceptionBId</th>\n",
       "      <th>MisconceptionCId</th>\n",
       "      <th>MisconceptionDId</th>\n",
       "    </tr>\n",
       "  </thead>\n",
       "  <tbody>\n",
       "    <tr>\n",
       "      <th>0</th>\n",
       "      <td>5</td>\n",
       "      <td>2052</td>\n",
       "      <td>Identify a unit of area</td>\n",
       "      <td>75</td>\n",
       "      <td>Area of Simple Shapes</td>\n",
       "      <td>D</td>\n",
       "      <td>James has answered a question on the area of a trapezium and got an answer of \\( 54 \\).\\n\\nBehind the star he has written the units that he used.\\n\\n\\(\\n54 \\, \\bigstar \\n\\)\\n\\nWhich of the following units could be correct?</td>\n",
       "      <td>\\( m \\)</td>\n",
       "      <td>\\( \\mathrm{cm} \\)</td>\n",
       "      <td>\\( \\mathrm{km}^{3} \\)</td>\n",
       "      <td>\\( \\mathrm{mm}^{2} \\)</td>\n",
       "      <td>686.0</td>\n",
       "      <td>686.0</td>\n",
       "      <td>686.0</td>\n",
       "      <td>NaN</td>\n",
       "    </tr>\n",
       "    <tr>\n",
       "      <th>1</th>\n",
       "      <td>1132</td>\n",
       "      <td>2052</td>\n",
       "      <td>Identify a unit of area</td>\n",
       "      <td>196</td>\n",
       "      <td>Area Units</td>\n",
       "      <td>B</td>\n",
       "      <td>Tom and Katie are discussing units of area\\nTom says centimetres is a unit of area\\nKatie says \\( \\mathrm{mm}^{2} \\) is a unit of area\\nWho is correct?</td>\n",
       "      <td>Only\\nTom</td>\n",
       "      <td>Only Katie</td>\n",
       "      <td>Both Tom and Katie</td>\n",
       "      <td>Neither is correct</td>\n",
       "      <td>686.0</td>\n",
       "      <td>NaN</td>\n",
       "      <td>686.0</td>\n",
       "      <td>686.0</td>\n",
       "    </tr>\n",
       "    <tr>\n",
       "      <th>2</th>\n",
       "      <td>15</td>\n",
       "      <td>2578</td>\n",
       "      <td>Calculate the area of an equilateral triangle where the dimensions are given in the same units</td>\n",
       "      <td>75</td>\n",
       "      <td>Area of Simple Shapes</td>\n",
       "      <td>D</td>\n",
       "      <td>How would you calculate the area of this triangle? ![A triangle, base 12m. All three sides are equal.]()</td>\n",
       "      <td>\\( \\frac{6 \\times 12}{2} \\)</td>\n",
       "      <td>\\( \\frac{12 \\times 12}{2} \\)</td>\n",
       "      <td>\\( \\frac{12 \\times 12 \\times 12}{2} \\)</td>\n",
       "      <td>None of these</td>\n",
       "      <td>NaN</td>\n",
       "      <td>590.0</td>\n",
       "      <td>71.0</td>\n",
       "      <td>NaN</td>\n",
       "    </tr>\n",
       "    <tr>\n",
       "      <th>3</th>\n",
       "      <td>78</td>\n",
       "      <td>2582</td>\n",
       "      <td>Given the area of a parallelogram, calculate a missing dimension</td>\n",
       "      <td>75</td>\n",
       "      <td>Area of Simple Shapes</td>\n",
       "      <td>A</td>\n",
       "      <td>The area of this parallelogram is \\( 24 \\mathrm{~cm}^{2} \\)\\n\\nWhat measurement should replace the star? ![Parallelogram with base length 6cm and the perpendicular height has a star symbol.]()</td>\n",
       "      <td>\\( 4 \\mathrm{~cm} \\)</td>\n",
       "      <td>\\( 2 \\mathrm{~cm} \\)</td>\n",
       "      <td>\\( 8 \\mathrm{~cm} \\)</td>\n",
       "      <td>Not enough information</td>\n",
       "      <td>NaN</td>\n",
       "      <td>272.0</td>\n",
       "      <td>1835.0</td>\n",
       "      <td>2397.0</td>\n",
       "    </tr>\n",
       "    <tr>\n",
       "      <th>4</th>\n",
       "      <td>103</td>\n",
       "      <td>2566</td>\n",
       "      <td>Calculate the area of a parallelogram where the dimensions are given in the same units</td>\n",
       "      <td>75</td>\n",
       "      <td>Area of Simple Shapes</td>\n",
       "      <td>C</td>\n",
       "      <td>What is the area of the parallelogram? ![A parallelogram with the length labelled 10cm, the slanted height labelled 4cm, and the perpendicular height (marked with a right angle) labelled 3cm]()</td>\n",
       "      <td>\\( 120 \\mathrm{~cm}^{2} \\)</td>\n",
       "      <td>\\( 40 \\mathrm{~cm}^{2} \\)</td>\n",
       "      <td>\\( 30 \\mathrm{~cm}^{2} \\)</td>\n",
       "      <td>\\( 15 \\mathrm{~cm}^{2} \\)</td>\n",
       "      <td>867.0</td>\n",
       "      <td>669.0</td>\n",
       "      <td>NaN</td>\n",
       "      <td>695.0</td>\n",
       "    </tr>\n",
       "  </tbody>\n",
       "</table>\n",
       "</div>"
      ],
      "text/plain": [
       "   QuestionId  ConstructId  \\\n",
       "0           5         2052   \n",
       "1        1132         2052   \n",
       "2          15         2578   \n",
       "3          78         2582   \n",
       "4         103         2566   \n",
       "\n",
       "                                                                                    ConstructName  \\\n",
       "0                                                                         Identify a unit of area   \n",
       "1                                                                         Identify a unit of area   \n",
       "2  Calculate the area of an equilateral triangle where the dimensions are given in the same units   \n",
       "3                                Given the area of a parallelogram, calculate a missing dimension   \n",
       "4          Calculate the area of a parallelogram where the dimensions are given in the same units   \n",
       "\n",
       "   SubjectId            SubjectName CorrectAnswer  \\\n",
       "0         75  Area of Simple Shapes             D   \n",
       "1        196             Area Units             B   \n",
       "2         75  Area of Simple Shapes             D   \n",
       "3         75  Area of Simple Shapes             A   \n",
       "4         75  Area of Simple Shapes             C   \n",
       "\n",
       "                                                                                                                                                                                                                     QuestionText  \\\n",
       "0  James has answered a question on the area of a trapezium and got an answer of \\( 54 \\).\\n\\nBehind the star he has written the units that he used.\\n\\n\\(\\n54 \\, \\bigstar \\n\\)\\n\\nWhich of the following units could be correct?   \n",
       "1                                                                         Tom and Katie are discussing units of area\\nTom says centimetres is a unit of area\\nKatie says \\( \\mathrm{mm}^{2} \\) is a unit of area\\nWho is correct?   \n",
       "2                                                                                                                        How would you calculate the area of this triangle? ![A triangle, base 12m. All three sides are equal.]()   \n",
       "3                                The area of this parallelogram is \\( 24 \\mathrm{~cm}^{2} \\)\\n\\nWhat measurement should replace the star? ![Parallelogram with base length 6cm and the perpendicular height has a star symbol.]()   \n",
       "4                               What is the area of the parallelogram? ![A parallelogram with the length labelled 10cm, the slanted height labelled 4cm, and the perpendicular height (marked with a right angle) labelled 3cm]()   \n",
       "\n",
       "                   AnswerAText                   AnswerBText  \\\n",
       "0                      \\( m \\)             \\( \\mathrm{cm} \\)   \n",
       "1                    Only\\nTom                    Only Katie   \n",
       "2  \\( \\frac{6 \\times 12}{2} \\)  \\( \\frac{12 \\times 12}{2} \\)   \n",
       "3         \\( 4 \\mathrm{~cm} \\)          \\( 2 \\mathrm{~cm} \\)   \n",
       "4   \\( 120 \\mathrm{~cm}^{2} \\)     \\( 40 \\mathrm{~cm}^{2} \\)   \n",
       "\n",
       "                              AnswerCText                AnswerDText  \\\n",
       "0                   \\( \\mathrm{km}^{3} \\)      \\( \\mathrm{mm}^{2} \\)   \n",
       "1                      Both Tom and Katie         Neither is correct   \n",
       "2  \\( \\frac{12 \\times 12 \\times 12}{2} \\)              None of these   \n",
       "3                    \\( 8 \\mathrm{~cm} \\)     Not enough information   \n",
       "4               \\( 30 \\mathrm{~cm}^{2} \\)  \\( 15 \\mathrm{~cm}^{2} \\)   \n",
       "\n",
       "   MisconceptionAId  MisconceptionBId  MisconceptionCId  MisconceptionDId  \n",
       "0             686.0             686.0             686.0               NaN  \n",
       "1             686.0               NaN             686.0             686.0  \n",
       "2               NaN             590.0              71.0               NaN  \n",
       "3               NaN             272.0            1835.0            2397.0  \n",
       "4             867.0             669.0               NaN             695.0  "
      ]
     },
     "execution_count": 9,
     "metadata": {},
     "output_type": "execute_result"
    }
   ],
   "source": [
    "import numpy as np\n",
    "\n",
    "def generate_filtered_df(df, construct_id=None, subject_id=None, min_rows=5, max_rows=10, skip_question_id=None, verbose=False, random_seed=42):\n",
    "    # Set the random seed for numpy and pandas\n",
    "    np.random.seed(random_seed)\n",
    "    \n",
    "    result_df = pd.DataFrame()\n",
    "    construct_count = 0\n",
    "    subject_count = 0\n",
    "    random_count = 0\n",
    "    \n",
    "    # Apply initial filter to skip the specified QuestionId\n",
    "    if skip_question_id is not None:\n",
    "        df = df[df['QuestionId'] != skip_question_id]\n",
    "        if verbose: print(f\"Skipping QuestionId {skip_question_id}\")\n",
    "    \n",
    "    # Step 1: Filter by ConstructId if provided\n",
    "    if construct_id is not None:\n",
    "        construct_df = df[df['ConstructId'] == construct_id]\n",
    "        result_df = pd.concat([result_df, construct_df])\n",
    "        construct_count = len(result_df)\n",
    "        if verbose: print(f\"Matched ConstructId {construct_id}: {construct_count} rows\")\n",
    "    \n",
    "    # Step 2: If we don't have enough rows, add rows with the specified SubjectId\n",
    "    if len(result_df) < min_rows and subject_id is not None:\n",
    "        subject_df = df[(df['SubjectId'] == subject_id) & ~df.index.isin(result_df.index)]\n",
    "        rows_to_add = min(len(subject_df), min_rows - len(result_df))\n",
    "        result_df = pd.concat([result_df, subject_df.head(rows_to_add)])  # Use head() instead of sample()\n",
    "        subject_count = len(result_df) - construct_count\n",
    "        if verbose: print(f\"Added rows from SubjectId {subject_id}: {subject_count} rows\")\n",
    "    \n",
    "    # Step 3: If we still don't have enough rows, add random rows\n",
    "    if len(result_df) < min_rows:\n",
    "        remaining_df = df[~df.index.isin(result_df.index)]\n",
    "        rows_to_add = min(len(remaining_df), min_rows - len(result_df))\n",
    "        result_df = pd.concat([result_df, remaining_df.head(rows_to_add)])  # Use head() instead of sample()\n",
    "        random_count = len(result_df) - (construct_count + subject_count)\n",
    "        if verbose: print(f\"Added random rows to meet minimum: {random_count} rows\")\n",
    "    \n",
    "    # Step 4: If we have more than max_rows, use the first max_rows\n",
    "    if len(result_df) > max_rows:\n",
    "        result_df = result_df.head(max_rows)\n",
    "        if verbose: print(f\"Reduced to maximum: {max_rows} rows\")\n",
    "    \n",
    "    if verbose: \n",
    "        print(f\"\\nFinal DataFrame composition:\")\n",
    "        print(f\"ConstructId matches: {construct_count}\")\n",
    "        print(f\"SubjectId matches: {subject_count}\")\n",
    "        print(f\"Random additions: {random_count}\")\n",
    "        print(f\"Total rows: {len(result_df)}\")\n",
    "    \n",
    "    return result_df.reset_index(drop=True)\n",
    "\n",
    "# Usage\n",
    "filtered_df = generate_filtered_df(train_df, construct_id=2052, subject_id=75, min_rows=min_example_questions, max_rows=max_example_questions, verbose=True, random_seed=42)\n",
    "filtered_df.head(10)"
   ]
  },
  {
   "cell_type": "markdown",
   "id": "4f7abbbb",
   "metadata": {
    "papermill": {
     "duration": 0.013766,
     "end_time": "2024-09-24T06:51:13.772809",
     "exception": false,
     "start_time": "2024-09-24T06:51:13.759043",
     "status": "completed"
    },
    "tags": []
   },
   "source": [
    "# Generate array of training message segments for a given DF\n",
    "## For each question / answer pair (with non-nan misconception) in DF includes:\n",
    "* Question (combines ConstructName and QuestionText)\n",
    "* Correct Answer\n",
    "* Incorrect Answer (test question)\n",
    "* Misconception for given answer\n",
    "\n",
    "Also - size of returned data is limitted by bytes.  Intent is to assure we don't blow-up memory usage."
   ]
  },
  {
   "cell_type": "code",
   "execution_count": 10,
   "id": "df565716",
   "metadata": {
    "execution": {
     "iopub.execute_input": "2024-09-24T06:51:13.802329Z",
     "iopub.status.busy": "2024-09-24T06:51:13.801609Z",
     "iopub.status.idle": "2024-09-24T06:51:13.816438Z",
     "shell.execute_reply": "2024-09-24T06:51:13.815475Z"
    },
    "papermill": {
     "duration": 0.031658,
     "end_time": "2024-09-24T06:51:13.818416",
     "exception": false,
     "start_time": "2024-09-24T06:51:13.786758",
     "status": "completed"
    },
    "tags": []
   },
   "outputs": [
    {
     "name": "stdout",
     "output_type": "stream",
     "text": [
      "Size of returned data: 7523 bytes\n"
     ]
    },
    {
     "data": {
      "text/plain": [
       "[['Identify a unit of area: James has answered a question on the area of a trapezium and got an answer of \\\\( 54 \\\\).\\n\\nBehind the star he has written the units that he used.\\n\\n\\\\(\\n54 \\\\, \\\\bigstar \\n\\\\)\\n\\nWhich of the following units could be correct?',\n",
       "  '\\\\( \\\\mathrm{mm}^{2} \\\\)',\n",
       "  '\\\\( m \\\\)',\n",
       "  'Does not know units of area should be squared'],\n",
       " ['Identify a unit of area: James has answered a question on the area of a trapezium and got an answer of \\\\( 54 \\\\).\\n\\nBehind the star he has written the units that he used.\\n\\n\\\\(\\n54 \\\\, \\\\bigstar \\n\\\\)\\n\\nWhich of the following units could be correct?',\n",
       "  '\\\\( \\\\mathrm{mm}^{2} \\\\)',\n",
       "  '\\\\( \\\\mathrm{cm} \\\\)',\n",
       "  'Does not know units of area should be squared'],\n",
       " ['Identify a unit of area: James has answered a question on the area of a trapezium and got an answer of \\\\( 54 \\\\).\\n\\nBehind the star he has written the units that he used.\\n\\n\\\\(\\n54 \\\\, \\\\bigstar \\n\\\\)\\n\\nWhich of the following units could be correct?',\n",
       "  '\\\\( \\\\mathrm{mm}^{2} \\\\)',\n",
       "  '\\\\( \\\\mathrm{km}^{3} \\\\)',\n",
       "  'Does not know units of area should be squared'],\n",
       " ['Identify a unit of area: Tom and Katie are discussing units of area\\nTom says centimetres is a unit of area\\nKatie says \\\\( \\\\mathrm{mm}^{2} \\\\) is a unit of area\\nWho is correct?',\n",
       "  'Only Katie',\n",
       "  'Only\\nTom',\n",
       "  'Does not know units of area should be squared'],\n",
       " ['Identify a unit of area: Tom and Katie are discussing units of area\\nTom says centimetres is a unit of area\\nKatie says \\\\( \\\\mathrm{mm}^{2} \\\\) is a unit of area\\nWho is correct?',\n",
       "  'Only Katie',\n",
       "  'Both Tom and Katie',\n",
       "  'Does not know units of area should be squared'],\n",
       " ['Identify a unit of area: Tom and Katie are discussing units of area\\nTom says centimetres is a unit of area\\nKatie says \\\\( \\\\mathrm{mm}^{2} \\\\) is a unit of area\\nWho is correct?',\n",
       "  'Only Katie',\n",
       "  'Neither is correct',\n",
       "  'Does not know units of area should be squared'],\n",
       " ['Calculate the area of an equilateral triangle where the dimensions are given in the same units: How would you calculate the area of this triangle? ![A triangle, base 12m. All three sides are equal.]()',\n",
       "  'None of these',\n",
       "  '\\\\( \\\\frac{12 \\\\times 12}{2} \\\\)',\n",
       "  'Has used slant height and base to find area of a triangle rather than perpendicular height and base'],\n",
       " ['Calculate the area of an equilateral triangle where the dimensions are given in the same units: How would you calculate the area of this triangle? ![A triangle, base 12m. All three sides are equal.]()',\n",
       "  'None of these',\n",
       "  '\\\\( \\\\frac{12 \\\\times 12 \\\\times 12}{2} \\\\)',\n",
       "  'Multiplies all given dimensions when calculating an area'],\n",
       " ['Given the area of a parallelogram, calculate a missing dimension: The area of this parallelogram is \\\\( 24 \\\\mathrm{~cm}^{2} \\\\)\\n\\nWhat measurement should replace the star? ![Parallelogram with base length 6cm and the perpendicular height has a star symbol.]()',\n",
       "  '\\\\( 4 \\\\mathrm{~cm} \\\\)',\n",
       "  '\\\\( 2 \\\\mathrm{~cm} \\\\)',\n",
       "  'When finding a missing side of a parallelogram given the area completes an extra step of dividing by 2'],\n",
       " ['Given the area of a parallelogram, calculate a missing dimension: The area of this parallelogram is \\\\( 24 \\\\mathrm{~cm}^{2} \\\\)\\n\\nWhat measurement should replace the star? ![Parallelogram with base length 6cm and the perpendicular height has a star symbol.]()',\n",
       "  '\\\\( 4 \\\\mathrm{~cm} \\\\)',\n",
       "  '\\\\( 8 \\\\mathrm{~cm} \\\\)',\n",
       "  'When finding the area of a parallelogram finds base x perpendicular height but divides the answer by 2 '],\n",
       " ['Given the area of a parallelogram, calculate a missing dimension: The area of this parallelogram is \\\\( 24 \\\\mathrm{~cm}^{2} \\\\)\\n\\nWhat measurement should replace the star? ![Parallelogram with base length 6cm and the perpendicular height has a star symbol.]()',\n",
       "  '\\\\( 4 \\\\mathrm{~cm} \\\\)',\n",
       "  'Not enough information',\n",
       "  'Does not realise we can find a missing length if we know the base of a parallelogram and its area. '],\n",
       " ['Calculate the area of a parallelogram where the dimensions are given in the same units: What is the area of the parallelogram? ![A parallelogram with the length labelled 10cm, the slanted height labelled 4cm, and the perpendicular height (marked with a right angle) labelled 3cm]()',\n",
       "  '\\\\( 30 \\\\mathrm{~cm}^{2} \\\\)',\n",
       "  '\\\\( 120 \\\\mathrm{~cm}^{2} \\\\)',\n",
       "  'When finding the area of a parallelogram does not understand which lengths to use'],\n",
       " ['Calculate the area of a parallelogram where the dimensions are given in the same units: What is the area of the parallelogram? ![A parallelogram with the length labelled 10cm, the slanted height labelled 4cm, and the perpendicular height (marked with a right angle) labelled 3cm]()',\n",
       "  '\\\\( 30 \\\\mathrm{~cm}^{2} \\\\)',\n",
       "  '\\\\( 40 \\\\mathrm{~cm}^{2} \\\\)',\n",
       "  'Has used slant height and base to find area of a parallelogram rather than perpendicular height and base'],\n",
       " ['Calculate the area of a parallelogram where the dimensions are given in the same units: What is the area of the parallelogram? ![A parallelogram with the length labelled 10cm, the slanted height labelled 4cm, and the perpendicular height (marked with a right angle) labelled 3cm]()',\n",
       "  '\\\\( 30 \\\\mathrm{~cm}^{2} \\\\)',\n",
       "  '\\\\( 15 \\\\mathrm{~cm}^{2} \\\\)',\n",
       "  'Has found the area of a triangle rather than an area of a parallelogram']]"
      ]
     },
     "execution_count": 10,
     "metadata": {},
     "output_type": "execute_result"
    }
   ],
   "source": [
    "def get_train_messages_for_df(filtered_train_df, skip_nan_misconceptions=True, answers=['A', 'B', 'C', 'D'], verbose = False):\n",
    "    messages = []\n",
    "    current_size = 0\n",
    "    \n",
    "    for _, row in filtered_train_df.iterrows():\n",
    "        for answer_choice in answers:\n",
    "            if answer_choice == row['CorrectAnswer']:\n",
    "                continue\n",
    "            \n",
    "            misconception_id = row[f'Misconception{answer_choice}Id']\n",
    "            \n",
    "            if pd.isna(misconception_id) and skip_nan_misconceptions:\n",
    "                continue\n",
    "            \n",
    "            if not pd.isna(misconception_id):\n",
    "                new_message = [\n",
    "                    f\"{row['ConstructName']}: {row['QuestionText']}\",\n",
    "                    row[f'Answer{row[\"CorrectAnswer\"]}Text'],\n",
    "                    row[f'Answer{answer_choice}Text'],\n",
    "                    misc_map_df.loc[int(misconception_id), 'MisconceptionName']\n",
    "                ]\n",
    "                \n",
    "                # Calculate size of new message\n",
    "                new_message_size = sum(sys.getsizeof(item) for item in new_message)\n",
    "                                \n",
    "                messages.append(new_message)\n",
    "                current_size += new_message_size\n",
    "            \n",
    "    # Print size of returned data\n",
    "    if verbose: print(f\"Size of returned data: {current_size} bytes\")\n",
    "    \n",
    "    return messages\n",
    "\n",
    "examples_sequences = get_train_messages_for_df(filtered_df, verbose = True)\n",
    "examples_sequences"
   ]
  },
  {
   "cell_type": "markdown",
   "id": "a72f5e4e",
   "metadata": {
    "papermill": {
     "duration": 0.014109,
     "end_time": "2024-09-24T06:51:13.846869",
     "exception": false,
     "start_time": "2024-09-24T06:51:13.832760",
     "status": "completed"
    },
    "tags": []
   },
   "source": [
    "# Define prompt components\n",
    "* Tell the LLM what we are looking for\n",
    "* Prefixes added to messages"
   ]
  },
  {
   "cell_type": "code",
   "execution_count": 11,
   "id": "28fa1b88",
   "metadata": {
    "execution": {
     "iopub.execute_input": "2024-09-24T06:51:13.876785Z",
     "iopub.status.busy": "2024-09-24T06:51:13.876468Z",
     "iopub.status.idle": "2024-09-24T06:51:13.881333Z",
     "shell.execute_reply": "2024-09-24T06:51:13.880324Z"
    },
    "papermill": {
     "duration": 0.02202,
     "end_time": "2024-09-24T06:51:13.883168",
     "exception": false,
     "start_time": "2024-09-24T06:51:13.861148",
     "status": "completed"
    },
    "tags": []
   },
   "outputs": [],
   "source": [
    "#original text prefix\n",
    "question_prefix = \"Question:\"\n",
    "\n",
    "#LLM \"response\"\n",
    "llm_correct_response_for_rewrite = \"Provide me with the correct answer for a baseline.\"\n",
    "llm_incorrect_response_for_rewrite = \"Now - provide the incorrect answer and I will anaylze the difference to infer the misconception.\"\n",
    "\n",
    "#modified text prefix\n",
    "incorrect_answer_prefix = \"Incorrect Answer:\"\n",
    "correct_answer_prefix = \"Correct Answer:\"\n",
    "\n",
    "#providing this as the start of the response helps keep things relevant\n",
    "response_start = \"Misconception for incorrect answer: \""
   ]
  },
  {
   "cell_type": "markdown",
   "id": "7ebe46b1",
   "metadata": {
    "papermill": {
     "duration": 0.014111,
     "end_time": "2024-09-24T06:51:13.911513",
     "exception": false,
     "start_time": "2024-09-24T06:51:13.897402",
     "status": "completed"
    },
    "tags": []
   },
   "source": [
    "# Cleans LLM output"
   ]
  },
  {
   "cell_type": "code",
   "execution_count": 12,
   "id": "a665f044",
   "metadata": {
    "execution": {
     "iopub.execute_input": "2024-09-24T06:51:13.941163Z",
     "iopub.status.busy": "2024-09-24T06:51:13.940868Z",
     "iopub.status.idle": "2024-09-24T06:51:13.947124Z",
     "shell.execute_reply": "2024-09-24T06:51:13.946235Z"
    },
    "papermill": {
     "duration": 0.023177,
     "end_time": "2024-09-24T06:51:13.948949",
     "exception": false,
     "start_time": "2024-09-24T06:51:13.925772",
     "status": "completed"
    },
    "tags": []
   },
   "outputs": [],
   "source": [
    "def clean_response(my_string, response_start):\n",
    "    # Trim leading spaces first\n",
    "    my_string = my_string.lstrip()\n",
    "    \n",
    "    # Remove response_start if present\n",
    "    if my_string.startswith(response_start):\n",
    "        my_string = my_string[len(response_start):]\n",
    "    \n",
    "    # Find indices of first period and first linefeed\n",
    "    period_index = my_string.find('.')\n",
    "    linefeed_index = my_string.find('\\n')\n",
    "    \n",
    "    # Determine where to truncate\n",
    "    truncate_index = len(my_string)  # Default to end of string\n",
    "    if period_index != -1:\n",
    "        truncate_index = period_index\n",
    "    if linefeed_index != -1 and linefeed_index < truncate_index:\n",
    "        truncate_index = linefeed_index\n",
    "    \n",
    "    # Truncate the string\n",
    "    my_string = my_string[:truncate_index]\n",
    "    \n",
    "    return my_string.strip()"
   ]
  },
  {
   "cell_type": "markdown",
   "id": "cd6564e1",
   "metadata": {
    "papermill": {
     "duration": 0.014131,
     "end_time": "2024-09-24T06:51:13.977261",
     "exception": false,
     "start_time": "2024-09-24T06:51:13.963130",
     "status": "completed"
    },
    "tags": []
   },
   "source": [
    "# Detection logic\n",
    "### Takes input of question, answer and example message segments\n",
    "### Actual messages are generated for LLM\n",
    "### Output is predicted misconception!"
   ]
  },
  {
   "cell_type": "code",
   "execution_count": 13,
   "id": "977a9b34",
   "metadata": {
    "execution": {
     "iopub.execute_input": "2024-09-24T06:51:14.007492Z",
     "iopub.status.busy": "2024-09-24T06:51:14.006926Z",
     "iopub.status.idle": "2024-09-24T06:51:14.017598Z",
     "shell.execute_reply": "2024-09-24T06:51:14.016738Z"
    },
    "papermill": {
     "duration": 0.027901,
     "end_time": "2024-09-24T06:51:14.019488",
     "exception": false,
     "start_time": "2024-09-24T06:51:13.991587",
     "status": "completed"
    },
    "tags": []
   },
   "outputs": [],
   "source": [
    "def get_prompt(question, correct_answer, incorrect_answer, examples_sequences, max_word_count = max_words_for_examples, verbose=False):\n",
    "    messages = []\n",
    "    current_word_count = 0\n",
    "\n",
    "    def calculate_word_count(text):\n",
    "        return len(text.split())\n",
    "\n",
    "    # Iterate through example sequences, checking the total word count\n",
    "    for examp_question, examp_correct_answer, examp_incorrect_answer, examp_misconception in examples_sequences:\n",
    "        # Construct the combined sequence for this example\n",
    "        example_messages = [\n",
    "            {\"role\": \"user\", \"content\": f\"{question_prefix} {examp_question}\"},\n",
    "            {\"role\": \"assistant\", \"content\": llm_correct_response_for_rewrite},\n",
    "            {\"role\": \"user\", \"content\": f\"{correct_answer_prefix} {examp_correct_answer}\"},\n",
    "            {\"role\": \"assistant\", \"content\": llm_incorrect_response_for_rewrite},\n",
    "            {\"role\": \"user\", \"content\": f\"{incorrect_answer_prefix} {examp_incorrect_answer}\"},\n",
    "            {\"role\": \"assistant\", \"content\": f\"{response_start} {examp_misconception}\"}\n",
    "        ]\n",
    "\n",
    "        # Calculate the total word count for this sequence\n",
    "        example_total_words = sum(calculate_word_count(msg[\"content\"]) for msg in example_messages)\n",
    "\n",
    "        # Check if adding this sequence would exceed the max word count\n",
    "        if current_word_count + example_total_words > max_word_count:\n",
    "            break  # Stop if we would exceed the limit\n",
    "\n",
    "        # Append the entire sequence to messages and update the word count\n",
    "        messages.extend(example_messages)\n",
    "        current_word_count += example_total_words\n",
    "\n",
    "    # Always add the actual prompt\n",
    "    actual_prompt_messages = [\n",
    "        {\"role\": \"user\", \"content\": f\"{question_prefix} {question}\"},\n",
    "        {\"role\": \"assistant\", \"content\": llm_correct_response_for_rewrite},\n",
    "        {\"role\": \"user\", \"content\": f\"{correct_answer_prefix} {correct_answer}\"},\n",
    "        {\"role\": \"assistant\", \"content\": llm_incorrect_response_for_rewrite},\n",
    "        {\"role\": \"user\", \"content\": f\"{incorrect_answer_prefix} {incorrect_answer}\"}\n",
    "    ]\n",
    "\n",
    "    # Append the actual prompt messages\n",
    "    messages.extend(actual_prompt_messages)\n",
    "\n",
    "    if verbose:\n",
    "        print(\"Prompt:\")\n",
    "        for message in messages:\n",
    "            display(message)\n",
    "\n",
    "    decoded = pipe(messages)\n",
    "\n",
    "    return decoded"
   ]
  },
  {
   "cell_type": "markdown",
   "id": "5d83f9f0",
   "metadata": {
    "papermill": {
     "duration": 0.014044,
     "end_time": "2024-09-24T06:51:14.047720",
     "exception": false,
     "start_time": "2024-09-24T06:51:14.033676",
     "status": "completed"
    },
    "tags": []
   },
   "source": [
    "# Hard coded test of everything...\n",
    "### Using a train question so we can compare the predicted misconception with the actual one."
   ]
  },
  {
   "cell_type": "code",
   "execution_count": 14,
   "id": "4384ae97",
   "metadata": {
    "execution": {
     "iopub.execute_input": "2024-09-24T06:51:14.077489Z",
     "iopub.status.busy": "2024-09-24T06:51:14.077149Z",
     "iopub.status.idle": "2024-09-24T06:51:18.231238Z",
     "shell.execute_reply": "2024-09-24T06:51:18.230217Z"
    },
    "papermill": {
     "duration": 4.171518,
     "end_time": "2024-09-24T06:51:18.233536",
     "exception": false,
     "start_time": "2024-09-24T06:51:14.062018",
     "status": "completed"
    },
    "tags": []
   },
   "outputs": [
    {
     "name": "stdout",
     "output_type": "stream",
     "text": [
      "Prompt:\n"
     ]
    },
    {
     "data": {
      "text/plain": [
       "{'role': 'user',\n",
       " 'content': 'Question: Convert decimals less than 1 with 3 or more decimal place to percentages: How do you write \\\\( 0.909 \\\\) as a percentage?'}"
      ]
     },
     "metadata": {},
     "output_type": "display_data"
    },
    {
     "data": {
      "text/plain": [
       "{'role': 'assistant',\n",
       " 'content': 'Provide me with the correct answer for a baseline.'}"
      ]
     },
     "metadata": {},
     "output_type": "display_data"
    },
    {
     "data": {
      "text/plain": [
       "{'role': 'user', 'content': 'Correct Answer: \\\\( 90.9 \\\\% \\\\)'}"
      ]
     },
     "metadata": {},
     "output_type": "display_data"
    },
    {
     "data": {
      "text/plain": [
       "{'role': 'assistant',\n",
       " 'content': 'Now - provide the incorrect answer and I will anaylze the difference to infer the misconception.'}"
      ]
     },
     "metadata": {},
     "output_type": "display_data"
    },
    {
     "data": {
      "text/plain": [
       "{'role': 'user', 'content': 'Incorrect Answer: \\\\( 99 \\\\% \\\\)'}"
      ]
     },
     "metadata": {},
     "output_type": "display_data"
    },
    {
     "data": {
      "text/plain": [
       "{'role': 'assistant',\n",
       " 'content': 'Misconception for incorrect answer:  Does not understand the value of zeros as placeholders'}"
      ]
     },
     "metadata": {},
     "output_type": "display_data"
    },
    {
     "data": {
      "text/plain": [
       "{'role': 'user',\n",
       " 'content': 'Question: Convert decimals less than 1 with 3 or more decimal place to percentages: How do you write \\\\( 0.909 \\\\) as a percentage?'}"
      ]
     },
     "metadata": {},
     "output_type": "display_data"
    },
    {
     "data": {
      "text/plain": [
       "{'role': 'assistant',\n",
       " 'content': 'Provide me with the correct answer for a baseline.'}"
      ]
     },
     "metadata": {},
     "output_type": "display_data"
    },
    {
     "data": {
      "text/plain": [
       "{'role': 'user', 'content': 'Correct Answer: \\\\( 90.9 \\\\% \\\\)'}"
      ]
     },
     "metadata": {},
     "output_type": "display_data"
    },
    {
     "data": {
      "text/plain": [
       "{'role': 'assistant',\n",
       " 'content': 'Now - provide the incorrect answer and I will anaylze the difference to infer the misconception.'}"
      ]
     },
     "metadata": {},
     "output_type": "display_data"
    },
    {
     "data": {
      "text/plain": [
       "{'role': 'user', 'content': 'Incorrect Answer: \\\\( 909 \\\\% \\\\)'}"
      ]
     },
     "metadata": {},
     "output_type": "display_data"
    },
    {
     "data": {
      "text/plain": [
       "{'role': 'assistant',\n",
       " 'content': 'Misconception for incorrect answer:  Thinks they just remove the decimal point when converting a decimal to a percentage'}"
      ]
     },
     "metadata": {},
     "output_type": "display_data"
    },
    {
     "data": {
      "text/plain": [
       "{'role': 'user',\n",
       " 'content': 'Question: Convert decimals less than 1 with 2 decimal place to percentages: \\\\( 0.01+57 \\\\%= \\\\)'}"
      ]
     },
     "metadata": {},
     "output_type": "display_data"
    },
    {
     "data": {
      "text/plain": [
       "{'role': 'assistant',\n",
       " 'content': 'Provide me with the correct answer for a baseline.'}"
      ]
     },
     "metadata": {},
     "output_type": "display_data"
    },
    {
     "data": {
      "text/plain": [
       "{'role': 'user', 'content': 'Correct Answer: \\\\( 58 \\\\% \\\\)'}"
      ]
     },
     "metadata": {},
     "output_type": "display_data"
    },
    {
     "data": {
      "text/plain": [
       "{'role': 'assistant',\n",
       " 'content': 'Now - provide the incorrect answer and I will anaylze the difference to infer the misconception.'}"
      ]
     },
     "metadata": {},
     "output_type": "display_data"
    },
    {
     "data": {
      "text/plain": [
       "{'role': 'user', 'content': 'Incorrect Answer: \\\\( 57.1 \\\\% \\\\)'}"
      ]
     },
     "metadata": {},
     "output_type": "display_data"
    },
    {
     "data": {
      "text/plain": [
       "{'role': 'assistant',\n",
       " 'content': 'Misconception for incorrect answer:  Multiplies by 10 instead of 100 when converting decimal to percentage'}"
      ]
     },
     "metadata": {},
     "output_type": "display_data"
    },
    {
     "data": {
      "text/plain": [
       "{'role': 'user',\n",
       " 'content': 'Question: Convert decimals less than 1 with 2 decimal place to percentages: \\\\( 0.01+57 \\\\%= \\\\)'}"
      ]
     },
     "metadata": {},
     "output_type": "display_data"
    },
    {
     "data": {
      "text/plain": [
       "{'role': 'assistant',\n",
       " 'content': 'Provide me with the correct answer for a baseline.'}"
      ]
     },
     "metadata": {},
     "output_type": "display_data"
    },
    {
     "data": {
      "text/plain": [
       "{'role': 'user', 'content': 'Correct Answer: \\\\( 58 \\\\% \\\\)'}"
      ]
     },
     "metadata": {},
     "output_type": "display_data"
    },
    {
     "data": {
      "text/plain": [
       "{'role': 'assistant',\n",
       " 'content': 'Now - provide the incorrect answer and I will anaylze the difference to infer the misconception.'}"
      ]
     },
     "metadata": {},
     "output_type": "display_data"
    },
    {
     "data": {
      "text/plain": [
       "{'role': 'user', 'content': 'Incorrect Answer: \\\\( 67 \\\\% \\\\)'}"
      ]
     },
     "metadata": {},
     "output_type": "display_data"
    },
    {
     "data": {
      "text/plain": [
       "{'role': 'assistant',\n",
       " 'content': 'Misconception for incorrect answer:  Multiplies by 1000 instead of 100 when converting a decimal to a percentage'}"
      ]
     },
     "metadata": {},
     "output_type": "display_data"
    },
    {
     "data": {
      "text/plain": [
       "{'role': 'user',\n",
       " 'content': 'Question: Convert decimals less than 1 with 2 decimal place to percentages: Write \\\\( 0.15 \\\\) as a percentage.'}"
      ]
     },
     "metadata": {},
     "output_type": "display_data"
    },
    {
     "data": {
      "text/plain": [
       "{'role': 'assistant',\n",
       " 'content': 'Provide me with the correct answer for a baseline.'}"
      ]
     },
     "metadata": {},
     "output_type": "display_data"
    },
    {
     "data": {
      "text/plain": [
       "{'role': 'user', 'content': 'Correct Answer: \\\\( 15 \\\\% \\\\)'}"
      ]
     },
     "metadata": {},
     "output_type": "display_data"
    },
    {
     "data": {
      "text/plain": [
       "{'role': 'assistant',\n",
       " 'content': 'Now - provide the incorrect answer and I will anaylze the difference to infer the misconception.'}"
      ]
     },
     "metadata": {},
     "output_type": "display_data"
    },
    {
     "data": {
      "text/plain": [
       "{'role': 'user', 'content': 'Incorrect Answer: \\\\( 0.15 \\\\% \\\\)'}"
      ]
     },
     "metadata": {},
     "output_type": "display_data"
    },
    {
     "data": {
      "text/plain": [
       "{'role': 'assistant',\n",
       " 'content': 'Misconception for incorrect answer:  Thinks you need to just add a % sign to a decimal to convert to a percentage'}"
      ]
     },
     "metadata": {},
     "output_type": "display_data"
    },
    {
     "data": {
      "text/plain": [
       "{'role': 'user',\n",
       " 'content': 'Question: Convert decimals less than 1 with 2 decimal place to percentages: Write \\\\( 0.15 \\\\) as a percentage.'}"
      ]
     },
     "metadata": {},
     "output_type": "display_data"
    },
    {
     "data": {
      "text/plain": [
       "{'role': 'assistant',\n",
       " 'content': 'Provide me with the correct answer for a baseline.'}"
      ]
     },
     "metadata": {},
     "output_type": "display_data"
    },
    {
     "data": {
      "text/plain": [
       "{'role': 'user', 'content': 'Correct Answer: \\\\( 15 \\\\% \\\\)'}"
      ]
     },
     "metadata": {},
     "output_type": "display_data"
    },
    {
     "data": {
      "text/plain": [
       "{'role': 'assistant',\n",
       " 'content': 'Now - provide the incorrect answer and I will anaylze the difference to infer the misconception.'}"
      ]
     },
     "metadata": {},
     "output_type": "display_data"
    },
    {
     "data": {
      "text/plain": [
       "{'role': 'user', 'content': 'Incorrect Answer: \\\\( 1.5 \\\\% \\\\)'}"
      ]
     },
     "metadata": {},
     "output_type": "display_data"
    },
    {
     "data": {
      "text/plain": [
       "{'role': 'assistant',\n",
       " 'content': 'Misconception for incorrect answer:  Multiplies by 10 instead of 100 when converting decimal to percentage'}"
      ]
     },
     "metadata": {},
     "output_type": "display_data"
    },
    {
     "data": {
      "text/plain": [
       "{'role': 'user',\n",
       " 'content': 'Question: Convert decimals greater than 1 to percentages: How do you write \\\\( 4.6 \\\\) as a percentage?'}"
      ]
     },
     "metadata": {},
     "output_type": "display_data"
    },
    {
     "data": {
      "text/plain": [
       "{'role': 'assistant',\n",
       " 'content': 'Provide me with the correct answer for a baseline.'}"
      ]
     },
     "metadata": {},
     "output_type": "display_data"
    },
    {
     "data": {
      "text/plain": [
       "{'role': 'user', 'content': 'Correct Answer: \\\\( 460 \\\\% \\\\)'}"
      ]
     },
     "metadata": {},
     "output_type": "display_data"
    },
    {
     "data": {
      "text/plain": [
       "{'role': 'assistant',\n",
       " 'content': 'Now - provide the incorrect answer and I will anaylze the difference to infer the misconception.'}"
      ]
     },
     "metadata": {},
     "output_type": "display_data"
    },
    {
     "data": {
      "text/plain": [
       "{'role': 'user', 'content': 'Incorrect Answer: \\\\( 46 \\\\% \\\\)'}"
      ]
     },
     "metadata": {},
     "output_type": "display_data"
    },
    {
     "data": {
      "text/plain": [
       "{'role': 'assistant',\n",
       " 'content': 'Misconception for incorrect answer:  Multiplies by 10 instead of 100 when converting decimal to percentage'}"
      ]
     },
     "metadata": {},
     "output_type": "display_data"
    },
    {
     "data": {
      "text/plain": [
       "{'role': 'user',\n",
       " 'content': 'Question: Convert decimals greater than 1 to percentages: How do you write \\\\( 4.6 \\\\) as a percentage?'}"
      ]
     },
     "metadata": {},
     "output_type": "display_data"
    },
    {
     "data": {
      "text/plain": [
       "{'role': 'assistant',\n",
       " 'content': 'Provide me with the correct answer for a baseline.'}"
      ]
     },
     "metadata": {},
     "output_type": "display_data"
    },
    {
     "data": {
      "text/plain": [
       "{'role': 'user', 'content': 'Correct Answer: \\\\( 460 \\\\% \\\\)'}"
      ]
     },
     "metadata": {},
     "output_type": "display_data"
    },
    {
     "data": {
      "text/plain": [
       "{'role': 'assistant',\n",
       " 'content': 'Now - provide the incorrect answer and I will anaylze the difference to infer the misconception.'}"
      ]
     },
     "metadata": {},
     "output_type": "display_data"
    },
    {
     "data": {
      "text/plain": [
       "{'role': 'user', 'content': 'Incorrect Answer: \\\\( 0.046 \\\\% \\\\)'}"
      ]
     },
     "metadata": {},
     "output_type": "display_data"
    },
    {
     "data": {
      "text/plain": [
       "{'role': 'assistant',\n",
       " 'content': 'Misconception for incorrect answer:  Divides instead of multiplies when converting a decimal to a percentage'}"
      ]
     },
     "metadata": {},
     "output_type": "display_data"
    },
    {
     "data": {
      "text/plain": [
       "{'role': 'user',\n",
       " 'content': 'Question: Convert decimals greater than 1 to percentages: How do you write \\\\( 4.6 \\\\) as a percentage?'}"
      ]
     },
     "metadata": {},
     "output_type": "display_data"
    },
    {
     "data": {
      "text/plain": [
       "{'role': 'assistant',\n",
       " 'content': 'Provide me with the correct answer for a baseline.'}"
      ]
     },
     "metadata": {},
     "output_type": "display_data"
    },
    {
     "data": {
      "text/plain": [
       "{'role': 'user', 'content': 'Correct Answer: \\\\( 460 \\\\% \\\\)'}"
      ]
     },
     "metadata": {},
     "output_type": "display_data"
    },
    {
     "data": {
      "text/plain": [
       "{'role': 'assistant',\n",
       " 'content': 'Now - provide the incorrect answer and I will anaylze the difference to infer the misconception.'}"
      ]
     },
     "metadata": {},
     "output_type": "display_data"
    },
    {
     "data": {
      "text/plain": [
       "{'role': 'user', 'content': 'Incorrect Answer: \\\\( 4.6 \\\\% \\\\)'}"
      ]
     },
     "metadata": {},
     "output_type": "display_data"
    },
    {
     "data": {
      "text/plain": [
       "{'role': 'assistant',\n",
       " 'content': 'Misconception for incorrect answer:  Thinks you need to just add a % sign to a decimal to convert to a percentage'}"
      ]
     },
     "metadata": {},
     "output_type": "display_data"
    },
    {
     "data": {
      "text/plain": [
       "{'role': 'user',\n",
       " 'content': 'Question: Convert decimals less than 1 with 2 decimal place to percentages: Write \\\\( 0.07 \\\\) as a percentage.'}"
      ]
     },
     "metadata": {},
     "output_type": "display_data"
    },
    {
     "data": {
      "text/plain": [
       "{'role': 'assistant',\n",
       " 'content': 'Provide me with the correct answer for a baseline.'}"
      ]
     },
     "metadata": {},
     "output_type": "display_data"
    },
    {
     "data": {
      "text/plain": [
       "{'role': 'user', 'content': 'Correct Answer: \\\\( 7 \\\\% \\\\)'}"
      ]
     },
     "metadata": {},
     "output_type": "display_data"
    },
    {
     "data": {
      "text/plain": [
       "{'role': 'assistant',\n",
       " 'content': 'Now - provide the incorrect answer and I will anaylze the difference to infer the misconception.'}"
      ]
     },
     "metadata": {},
     "output_type": "display_data"
    },
    {
     "data": {
      "text/plain": [
       "{'role': 'user', 'content': 'Incorrect Answer: \\\\( 70 \\\\% \\\\)'}"
      ]
     },
     "metadata": {},
     "output_type": "display_data"
    },
    {
     "data": {
      "text/plain": [
       "{'role': 'assistant',\n",
       " 'content': 'Misconception for incorrect answer:  Does not understand the value of zeros as placeholders'}"
      ]
     },
     "metadata": {},
     "output_type": "display_data"
    },
    {
     "data": {
      "text/plain": [
       "{'role': 'user',\n",
       " 'content': 'Question: Convert decimals less than 1 with 2 decimal place to percentages: Write \\\\( 0.07 \\\\) as a percentage.'}"
      ]
     },
     "metadata": {},
     "output_type": "display_data"
    },
    {
     "data": {
      "text/plain": [
       "{'role': 'assistant',\n",
       " 'content': 'Provide me with the correct answer for a baseline.'}"
      ]
     },
     "metadata": {},
     "output_type": "display_data"
    },
    {
     "data": {
      "text/plain": [
       "{'role': 'user', 'content': 'Correct Answer: \\\\( 7 \\\\% \\\\)'}"
      ]
     },
     "metadata": {},
     "output_type": "display_data"
    },
    {
     "data": {
      "text/plain": [
       "{'role': 'assistant',\n",
       " 'content': 'Now - provide the incorrect answer and I will anaylze the difference to infer the misconception.'}"
      ]
     },
     "metadata": {},
     "output_type": "display_data"
    },
    {
     "data": {
      "text/plain": [
       "{'role': 'user', 'content': 'Incorrect Answer: \\\\( 0.07 \\\\% \\\\)'}"
      ]
     },
     "metadata": {},
     "output_type": "display_data"
    },
    {
     "data": {
      "text/plain": [
       "{'role': 'assistant',\n",
       " 'content': 'Misconception for incorrect answer:  Thinks you need to just add a % sign to a decimal to convert to a percentage'}"
      ]
     },
     "metadata": {},
     "output_type": "display_data"
    },
    {
     "data": {
      "text/plain": [
       "{'role': 'user',\n",
       " 'content': 'Question: Convert decimals less than 1 with 1 decimal place to percentages: \\n Convert this decimal to a percentage\\n\\\\[\\n0.6\\n\\\\]\\n'}"
      ]
     },
     "metadata": {},
     "output_type": "display_data"
    },
    {
     "data": {
      "text/plain": [
       "{'role': 'assistant',\n",
       " 'content': 'Provide me with the correct answer for a baseline.'}"
      ]
     },
     "metadata": {},
     "output_type": "display_data"
    },
    {
     "data": {
      "text/plain": [
       "{'role': 'user', 'content': 'Correct Answer: \\\\( 60 \\\\% \\\\)'}"
      ]
     },
     "metadata": {},
     "output_type": "display_data"
    },
    {
     "data": {
      "text/plain": [
       "{'role': 'assistant',\n",
       " 'content': 'Now - provide the incorrect answer and I will anaylze the difference to infer the misconception.'}"
      ]
     },
     "metadata": {},
     "output_type": "display_data"
    },
    {
     "data": {
      "text/plain": [
       "{'role': 'user', 'content': 'Incorrect Answer: \\\\( 0.6 \\\\% \\\\)'}"
      ]
     },
     "metadata": {},
     "output_type": "display_data"
    },
    {
     "name": "stdout",
     "output_type": "stream",
     "text": [
      "\n",
      "-----SUMMARY----\n",
      "Question:  Convert decimals less than 1 with 1 decimal place to percentages: \n",
      " Convert this decimal to a percentage\n",
      "\\[\n",
      "0.6\n",
      "\\]\n",
      "\n",
      "Correct Answer:  \\( 60 \\% \\)\n",
      "Wrong Answer:  \\( 0.6 \\% \\)\n",
      "\n",
      "Predicted Misconception:\n",
      " Adds a % sign without multiplying by 100 to convert a decimal to a percentage \n",
      "\n",
      "Actual Misconception:\n",
      " Thinks you need to just add a % sign to a decimal to convert to a percentage\n"
     ]
    }
   ],
   "source": [
    "sample_question_index = 35\n",
    "question_letter_to_test = \"C\"\n",
    "\n",
    "question = train_df.iloc[sample_question_index]\n",
    "correct_question_letter = question[\"CorrectAnswer\"]\n",
    "if correct_question_letter == question_letter_to_test:\n",
    "    print(\"WARNING: Tested letter is for a correct answer!\")\n",
    "\n",
    "question_id = question[\"QuestionId\"]\n",
    "subject_id = question[\"SubjectId\"]\n",
    "construct_id = question[\"ConstructId\"]\n",
    "question_text = f\"{question['ConstructName']}: \\n {question['QuestionText']}\\n\"\n",
    "correct_answer_text = question[f\"Answer{correct_question_letter}Text\"]\n",
    "incorrect_answer_text = question[f\"Answer{question_letter_to_test}Text\"]\n",
    "misconception_id = question[f\"Misconception{question_letter_to_test}Id\"]\n",
    "misconception_text = misc_map_df['MisconceptionName'].values[int(misconception_id)]\n",
    "\n",
    "filtered_df = generate_filtered_df(train_df, construct_id=construct_id, subject_id=subject_id, min_rows=5, max_rows=7, skip_question_id = question_id)\n",
    "examples_sequences = get_train_messages_for_df(filtered_df)\n",
    "\n",
    "response = get_prompt(question_text, correct_answer_text, incorrect_answer_text, examples_sequences, verbose = True)\n",
    "\n",
    "just_response = clean_response(response[0]['generated_text'][-1]['content'], response_start)\n",
    "\n",
    "print(\"\\n-----SUMMARY----\")\n",
    "\n",
    "print(\"Question: \", question_text)\n",
    "print(\"Correct Answer: \", correct_answer_text)\n",
    "print(\"Wrong Answer: \", incorrect_answer_text)\n",
    "\n",
    "print()\n",
    "\n",
    "print (\"Predicted Misconception:\\n\", just_response, \"\\n\")\n",
    "print (\"Actual Misconception:\\n\", misconception_text)"
   ]
  },
  {
   "cell_type": "markdown",
   "id": "3dfd7e5f",
   "metadata": {
    "papermill": {
     "duration": 0.023023,
     "end_time": "2024-09-24T06:51:18.280363",
     "exception": false,
     "start_time": "2024-09-24T06:51:18.257340",
     "status": "completed"
    },
    "tags": []
   },
   "source": [
    "# Generate Misconceptions for all Test\n",
    "* Cycle through all non-correct answers in Test\n",
    "* We are generating novel text - not trying to match with actual provided options"
   ]
  },
  {
   "cell_type": "code",
   "execution_count": 15,
   "id": "a2bb5aa6",
   "metadata": {
    "execution": {
     "iopub.execute_input": "2024-09-24T06:51:18.330549Z",
     "iopub.status.busy": "2024-09-24T06:51:18.329789Z",
     "iopub.status.idle": "2024-09-24T06:52:22.268885Z",
     "shell.execute_reply": "2024-09-24T06:52:22.268029Z"
    },
    "papermill": {
     "duration": 63.9921,
     "end_time": "2024-09-24T06:52:22.297133",
     "exception": false,
     "start_time": "2024-09-24T06:51:18.305033",
     "status": "completed"
    },
    "tags": []
   },
   "outputs": [
    {
     "name": "stdout",
     "output_type": "stream",
     "text": [
      ".........\n",
      "Total execution time: 63.92 seconds\n",
      "Total items processed: 9\n",
      "Average time per item: 7.10 seconds\n",
      "Time for 1000 questions * 3 incorrect answers (3000 items): 5.918576540770354 hours\n"
     ]
    },
    {
     "data": {
      "text/html": [
       "<div>\n",
       "<style scoped>\n",
       "    .dataframe tbody tr th:only-of-type {\n",
       "        vertical-align: middle;\n",
       "    }\n",
       "\n",
       "    .dataframe tbody tr th {\n",
       "        vertical-align: top;\n",
       "    }\n",
       "\n",
       "    .dataframe thead th {\n",
       "        text-align: right;\n",
       "    }\n",
       "</style>\n",
       "<table border=\"1\" class=\"dataframe\">\n",
       "  <thead>\n",
       "    <tr style=\"text-align: right;\">\n",
       "      <th></th>\n",
       "      <th>QuestionId_Answer</th>\n",
       "      <th>MiscPredText</th>\n",
       "    </tr>\n",
       "  </thead>\n",
       "  <tbody>\n",
       "    <tr>\n",
       "      <th>0</th>\n",
       "      <td>1869_B</td>\n",
       "      <td>Applies multiplication before addition within the brackets, but does not recognize that the brackets should encompass the entire addition and subtraction operation</td>\n",
       "    </tr>\n",
       "    <tr>\n",
       "      <th>1</th>\n",
       "      <td>1869_C</td>\n",
       "      <td>Places the subtraction inside the parentheses, which changes the order of operations</td>\n",
       "    </tr>\n",
       "    <tr>\n",
       "      <th>2</th>\n",
       "      <td>1869_D</td>\n",
       "      <td>Confuses the order of operations, believes addition comes before multiplication without considering the need for brackets to alter the order of operations</td>\n",
       "    </tr>\n",
       "    <tr>\n",
       "      <th>3</th>\n",
       "      <td>1870_A</td>\n",
       "      <td>Incorrectly factors the numerator as if it were a simple quadratic, not recognizing that the quadratic can be factored into a product of binomials</td>\n",
       "    </tr>\n",
       "    <tr>\n",
       "      <th>4</th>\n",
       "      <td>1870_B</td>\n",
       "      <td>Incorrectly factors the numerator as if it were a simple quadratic, not recognizing that the quadratic can be factored into a product of binomials</td>\n",
       "    </tr>\n",
       "    <tr>\n",
       "      <th>5</th>\n",
       "      <td>1870_C</td>\n",
       "      <td>Incorrectly factors the numerator or incorrectly applies the division to the terms in the numerator</td>\n",
       "    </tr>\n",
       "    <tr>\n",
       "      <th>6</th>\n",
       "      <td>1871_A</td>\n",
       "      <td>Believes if you change all values by the same proportion (either cutting in half or adding a constant amount), the range of the data set would not change</td>\n",
       "    </tr>\n",
       "    <tr>\n",
       "      <th>7</th>\n",
       "      <td>1871_C</td>\n",
       "      <td>Believes if you changed all values by the same proportion the range would not change</td>\n",
       "    </tr>\n",
       "    <tr>\n",
       "      <th>8</th>\n",
       "      <td>1871_D</td>\n",
       "      <td>Believes if you added the same value to all numbers in the dataset the range will change</td>\n",
       "    </tr>\n",
       "  </tbody>\n",
       "</table>\n",
       "</div>"
      ],
      "text/plain": [
       "  QuestionId_Answer  \\\n",
       "0            1869_B   \n",
       "1            1869_C   \n",
       "2            1869_D   \n",
       "3            1870_A   \n",
       "4            1870_B   \n",
       "5            1870_C   \n",
       "6            1871_A   \n",
       "7            1871_C   \n",
       "8            1871_D   \n",
       "\n",
       "                                                                                                                                                          MiscPredText  \n",
       "0  Applies multiplication before addition within the brackets, but does not recognize that the brackets should encompass the entire addition and subtraction operation  \n",
       "1                                                                                 Places the subtraction inside the parentheses, which changes the order of operations  \n",
       "2           Confuses the order of operations, believes addition comes before multiplication without considering the need for brackets to alter the order of operations  \n",
       "3                   Incorrectly factors the numerator as if it were a simple quadratic, not recognizing that the quadratic can be factored into a product of binomials  \n",
       "4                   Incorrectly factors the numerator as if it were a simple quadratic, not recognizing that the quadratic can be factored into a product of binomials  \n",
       "5                                                                  Incorrectly factors the numerator or incorrectly applies the division to the terms in the numerator  \n",
       "6            Believes if you change all values by the same proportion (either cutting in half or adding a constant amount), the range of the data set would not change  \n",
       "7                                                                                 Believes if you changed all values by the same proportion the range would not change  \n",
       "8                                                                             Believes if you added the same value to all numbers in the dataset the range will change  "
      ]
     },
     "execution_count": 15,
     "metadata": {},
     "output_type": "execute_result"
    }
   ],
   "source": [
    "def process_test_questions():\n",
    "    results = []\n",
    "    start_time = time.time()\n",
    "    total_items = 0\n",
    "    \n",
    "    for question_index in range(len(test_df)):\n",
    "        question = test_df.iloc[question_index]\n",
    "        question_id = question[\"QuestionId\"]\n",
    "        subject_id = question[\"SubjectId\"]\n",
    "        construct_id = question[\"ConstructId\"]\n",
    "        correct_answer = question[\"CorrectAnswer\"]\n",
    "        question_text = f\"{question['ConstructName']}: \\n {question['QuestionText']}\\n\"\n",
    "        \n",
    "        for answer_choice in ['A', 'B', 'C', 'D']:\n",
    "            #skip correct answer\n",
    "            if answer_choice != correct_answer:\n",
    "                incorrect_answer_text = question[f\"Answer{answer_choice}Text\"]\n",
    "                correct_answer_text = question[f\"Answer{correct_answer}Text\"]\n",
    "\n",
    "                filtered_df = generate_filtered_df(train_df, construct_id=construct_id, subject_id=subject_id, min_rows=min_example_questions, max_rows=max_example_questions, skip_question_id=question_id)\n",
    "                examples_sequences = get_train_messages_for_df(filtered_df)\n",
    "                response = get_prompt(question_text, correct_answer_text, incorrect_answer_text, examples_sequences)\n",
    "                just_response = clean_response(response[0]['generated_text'][-1]['content'], response_start)\n",
    "                \n",
    "                results.append({\n",
    "                    'QuestionId_Answer': f\"{question_id}_{answer_choice}\",\n",
    "                    'MiscPredText': just_response\n",
    "                })\n",
    "                \n",
    "                total_items += 1\n",
    "                print(\".\", end=\"\", flush=True)\n",
    "    \n",
    "    end_time = time.time()\n",
    "    total_time = end_time - start_time\n",
    "    avg_time_per_item = total_time / total_items if total_items > 0 else 0\n",
    "    \n",
    "    print(f\"\\nTotal execution time: {total_time:.2f} seconds\")\n",
    "    print(f\"Total items processed: {total_items}\")\n",
    "    print(f\"Average time per item: {avg_time_per_item:.2f} seconds\")\n",
    "    print(f\"Time for 1000 questions * 3 incorrect answers (3000 items): {(avg_time_per_item * 3000) / 3600} hours\")\n",
    "\n",
    "    return pd.DataFrame(results)\n",
    "\n",
    "# Example usage:\n",
    "predicted_misc = process_test_questions()\n",
    "predicted_misc"
   ]
  },
  {
   "cell_type": "markdown",
   "id": "05b3eab7",
   "metadata": {},
   "source": []
  },
  {
   "cell_type": "markdown",
   "id": "473a881e",
   "metadata": {
    "papermill": {
     "duration": 0.024111,
     "end_time": "2024-09-24T06:52:22.345462",
     "exception": false,
     "start_time": "2024-09-24T06:52:22.321351",
     "status": "completed"
    },
    "tags": []
   },
   "source": [
    "# Next: Use cosine similarity to map predicted misconceptions back to actual options in Misconception Map\n",
    "#### Credit to BGE / cosine similarity code here:\n",
    "#### https://www.kaggle.com/code/pingfan/baseline-bge-cos-sim/"
   ]
  },
  {
   "cell_type": "code",
   "execution_count": 16,
   "id": "e82a3139",
   "metadata": {
    "execution": {
     "iopub.execute_input": "2024-09-24T06:52:22.396583Z",
     "iopub.status.busy": "2024-09-24T06:52:22.395828Z",
     "iopub.status.idle": "2024-09-24T06:52:33.417108Z",
     "shell.execute_reply": "2024-09-24T06:52:33.416032Z"
    },
    "papermill": {
     "duration": 11.049615,
     "end_time": "2024-09-24T06:52:33.419118",
     "exception": false,
     "start_time": "2024-09-24T06:52:22.369503",
     "status": "completed"
    },
    "tags": []
   },
   "outputs": [
    {
     "name": "stdout",
     "output_type": "stream",
     "text": [
      "Done!\n"
     ]
    }
   ],
   "source": [
    "device = \"cuda:0\"\n",
    "\n",
    "bge_tokenizer = AutoTokenizer.from_pretrained('/kaggle/input/bge-large-en-v1.5/transformers/default/1/bge-large-en-v1.5')\n",
    "bge_model = AutoModel.from_pretrained('/kaggle/input/bge-large-en-v1.5/transformers/default/1/bge-large-en-v1.5')\n",
    "bge_model.eval()\n",
    "bge_model.to(device)\n",
    "print(\"Done!\")"
   ]
  },
  {
   "cell_type": "markdown",
   "id": "565a3a37",
   "metadata": {
    "papermill": {
     "duration": 0.023919,
     "end_time": "2024-09-24T06:52:33.468954",
     "exception": false,
     "start_time": "2024-09-24T06:52:33.445035",
     "status": "completed"
    },
    "tags": []
   },
   "source": [
    "# Get embeddings for all possible misconceptions in misconception_mapping.csv\n",
    "* This only takes about 4 seconds on GPU for 2586 possible misconceptions\n",
    "* This suggests that mapping the ~3000 questions / answer pairs will also take an acceptable amount of time"
   ]
  },
  {
   "cell_type": "code",
   "execution_count": 17,
   "id": "c98e2bb6",
   "metadata": {
    "execution": {
     "iopub.execute_input": "2024-09-24T06:52:33.558837Z",
     "iopub.status.busy": "2024-09-24T06:52:33.558445Z",
     "iopub.status.idle": "2024-09-24T06:52:44.091545Z",
     "shell.execute_reply": "2024-09-24T06:52:44.090542Z"
    },
    "papermill": {
     "duration": 10.600764,
     "end_time": "2024-09-24T06:52:44.093682",
     "exception": false,
     "start_time": "2024-09-24T06:52:33.492918",
     "status": "completed"
    },
    "tags": []
   },
   "outputs": [
    {
     "name": "stderr",
     "output_type": "stream",
     "text": [
      "100%|██████████| 324/324 [00:10<00:00, 30.82it/s]"
     ]
    },
    {
     "name": "stdout",
     "output_type": "stream",
     "text": [
      "Sentence embeddings: torch.Size([3, 1024])\n",
      "Execution time: 10.52 seconds\n"
     ]
    },
    {
     "name": "stderr",
     "output_type": "stream",
     "text": [
      "\n"
     ]
    }
   ],
   "source": [
    "start_time = time.time()\n",
    "\n",
    "MisconceptionName = list(misc_map_df['MisconceptionName'].values)\n",
    "per_gpu_batch_size = 8\n",
    "\n",
    "def prepare_inputs(text, tokenizer, device):\n",
    "    tokenizer_outputs = tokenizer.batch_encode_plus(\n",
    "        text,\n",
    "        padding        = True,\n",
    "        return_tensors = 'pt',\n",
    "        max_length     = 1024,\n",
    "        truncation     = True\n",
    "    )\n",
    "    result = {\n",
    "        'input_ids': tokenizer_outputs.input_ids.to(device),\n",
    "        'attention_mask': tokenizer_outputs.attention_mask.to(device),\n",
    "    }\n",
    "    return result\n",
    "\n",
    "all_ctx_vector = []\n",
    "for mini_batch in tqdm(range(0, len(MisconceptionName[:]), per_gpu_batch_size)):\n",
    "    mini_context          = MisconceptionName[mini_batch:mini_batch+ per_gpu_batch_size]\n",
    "    encoded_input         = prepare_inputs(mini_context,bge_tokenizer,device)\n",
    "    sentence_embeddings   = bge_model(**encoded_input)[0][:, 0]\n",
    "    sentence_embeddings   = torch.nn.functional.normalize(sentence_embeddings, p=2, dim=1)\n",
    "    all_ctx_vector.append(sentence_embeddings.detach().cpu().numpy())\n",
    "\n",
    "all_ctx_vector = np.concatenate(all_ctx_vector, axis=0)\n",
    "print(\"Sentence embeddings:\", sentence_embeddings.shape)\n",
    "\n",
    "# Stop the timer\n",
    "end_time = time.time()\n",
    "\n",
    "# Calculate and print the execution time\n",
    "execution_time = end_time - start_time\n",
    "print(f\"Execution time: {execution_time:.2f} seconds\")"
   ]
  },
  {
   "cell_type": "markdown",
   "id": "dd4fa6a1",
   "metadata": {
    "papermill": {
     "duration": 0.030181,
     "end_time": "2024-09-24T06:52:44.154968",
     "exception": false,
     "start_time": "2024-09-24T06:52:44.124787",
     "status": "completed"
    },
    "tags": []
   },
   "source": [
    "# Get embeddings for all of our LLM predicted misconceptions"
   ]
  },
  {
   "cell_type": "code",
   "execution_count": 18,
   "id": "866b7247",
   "metadata": {
    "execution": {
     "iopub.execute_input": "2024-09-24T06:52:44.218455Z",
     "iopub.status.busy": "2024-09-24T06:52:44.218085Z",
     "iopub.status.idle": "2024-09-24T06:52:44.297394Z",
     "shell.execute_reply": "2024-09-24T06:52:44.296424Z"
    },
    "papermill": {
     "duration": 0.114172,
     "end_time": "2024-09-24T06:52:44.299395",
     "exception": false,
     "start_time": "2024-09-24T06:52:44.185223",
     "status": "completed"
    },
    "tags": []
   },
   "outputs": [
    {
     "name": "stderr",
     "output_type": "stream",
     "text": [
      "100%|██████████| 2/2 [00:00<00:00, 29.12it/s]"
     ]
    },
    {
     "name": "stdout",
     "output_type": "stream",
     "text": [
      "(9, 1024)\n"
     ]
    },
    {
     "name": "stderr",
     "output_type": "stream",
     "text": [
      "\n"
     ]
    }
   ],
   "source": [
    "test_texts = list(predicted_misc['MiscPredText'].values)\n",
    "all_text_vector = []\n",
    "per_gpu_batch_size = 8\n",
    "\n",
    "for mini_batch in tqdm(\n",
    "        range(0, len(test_texts[:]), per_gpu_batch_size)):\n",
    "    mini_context = test_texts[mini_batch:mini_batch\n",
    "                                           + per_gpu_batch_size]\n",
    "    encoded_input = prepare_inputs(mini_context,bge_tokenizer,device)\n",
    "    sentence_embeddings = bge_model(\n",
    "        **encoded_input)[0][:, 0]\n",
    "    sentence_embeddings = torch.nn.functional.normalize(sentence_embeddings, p=2, dim=1)\n",
    "    \n",
    "    all_text_vector.append(sentence_embeddings.detach().cpu().numpy())\n",
    "\n",
    "all_text_vector = np.concatenate(all_text_vector, axis=0)\n",
    "print(all_text_vector.shape)"
   ]
  },
  {
   "cell_type": "markdown",
   "id": "a15d6350",
   "metadata": {
    "papermill": {
     "duration": 0.030931,
     "end_time": "2024-09-24T06:52:44.361833",
     "exception": false,
     "start_time": "2024-09-24T06:52:44.330902",
     "status": "completed"
    },
    "tags": []
   },
   "source": [
    "# Get cosine similarities between LLM predictions and misconception mappings"
   ]
  },
  {
   "cell_type": "code",
   "execution_count": 19,
   "id": "99a81136",
   "metadata": {
    "execution": {
     "iopub.execute_input": "2024-09-24T06:52:44.425726Z",
     "iopub.status.busy": "2024-09-24T06:52:44.425375Z",
     "iopub.status.idle": "2024-09-24T06:52:44.453113Z",
     "shell.execute_reply": "2024-09-24T06:52:44.451869Z"
    },
    "papermill": {
     "duration": 0.063724,
     "end_time": "2024-09-24T06:52:44.456388",
     "exception": false,
     "start_time": "2024-09-24T06:52:44.392664",
     "status": "completed"
    },
    "tags": []
   },
   "outputs": [
    {
     "data": {
      "text/plain": [
       "array([[ 328,  871, 2143, 2181,  488, 1941, 2131, 1672, 2051, 1862, 1361,\n",
       "         911, 1432, 1971, 1679, 1516, 2306,  220, 1666, 2586,  373, 1345,\n",
       "        2085, 1119,  376],\n",
       "       [1054, 1971, 1941,  234, 1514, 2586, 1963, 2273,  467, 2001, 2530,\n",
       "        1190, 1887, 2181,  228, 1274,  969, 2518,  997,  172, 1875, 1241,\n",
       "        1345, 1119, 1916],\n",
       "       [1672,   15, 1941,  158, 2586, 1119,  516,  520, 2518, 2488,  373,\n",
       "        1999, 1971, 1316,  638, 1205,  674, 2143, 1890, 1856, 2306,   74,\n",
       "        1549, 1432,  481],\n",
       "       [1755,  403, 1808, 1670,  891, 1610, 1044,  167,   78, 1432,  102,\n",
       "        2247, 2173,  265,  340,  838, 2291, 1628,   58,  754,  346, 1976,\n",
       "         347,    3,  744],\n",
       "       [1755,  403, 1808, 1670,  891, 1610, 1044,  167,   78, 1432,  102,\n",
       "        2247, 2173,  265,  340,  838, 2291, 1628,   58,  754,  346, 1976,\n",
       "         347,    3,  744],\n",
       "       [ 403,  891, 1928,  652, 1755,  561, 2458, 1119,   58,  363,  538,\n",
       "          78,  609, 1181, 2272, 2547, 1624,  975, 1479, 1081, 1804, 1134,\n",
       "         289,  623, 2579],\n",
       "       [1287, 1073,  129, 2575,  787,  676,  365,  946, 1923,  324, 1297,\n",
       "        1105,  837,  985,  181, 2250, 1150, 1958, 2275, 1853,  153,  164,\n",
       "        2151,  475, 1627],\n",
       "       [1287, 1073,  365, 2151,  676, 2250,  129,  787, 2532,  804, 2439,\n",
       "         164,  475,  322,  324, 1923, 1105, 1297, 1237, 1958, 2575, 2548,\n",
       "        1349, 2323, 2552],\n",
       "       [1073, 1287,  365, 1923, 2151, 1105, 1797, 2552, 1157, 1342, 2330,\n",
       "        1677, 1817, 1415, 1441, 1474,  322, 1182,  475,  912, 2548,  711,\n",
       "        1198, 1079, 2412]])"
      ]
     },
     "execution_count": 19,
     "metadata": {},
     "output_type": "execute_result"
    }
   ],
   "source": [
    "test_cos_sim_arr = cosine_similarity(all_text_vector, all_ctx_vector)\n",
    "test_sorted_indices = np.argsort(-test_cos_sim_arr, axis=1)\n",
    "\n",
    "test_sorted_indices[:, :25]"
   ]
  },
  {
   "cell_type": "markdown",
   "id": "d8d40458",
   "metadata": {
    "papermill": {
     "duration": 0.057943,
     "end_time": "2024-09-24T06:52:44.583503",
     "exception": false,
     "start_time": "2024-09-24T06:52:44.525560",
     "status": "completed"
    },
    "tags": []
   },
   "source": [
    "# Look at an example LLM prediction vs. what we are submitting:"
   ]
  },
  {
   "cell_type": "code",
   "execution_count": 20,
   "id": "223f69f8",
   "metadata": {
    "execution": {
     "iopub.execute_input": "2024-09-24T06:52:44.647338Z",
     "iopub.status.busy": "2024-09-24T06:52:44.646491Z",
     "iopub.status.idle": "2024-09-24T06:52:44.666528Z",
     "shell.execute_reply": "2024-09-24T06:52:44.665591Z"
    },
    "papermill": {
     "duration": 0.054181,
     "end_time": "2024-09-24T06:52:44.668594",
     "exception": false,
     "start_time": "2024-09-24T06:52:44.614413",
     "status": "completed"
    },
    "tags": []
   },
   "outputs": [
    {
     "name": "stdout",
     "output_type": "stream",
     "text": [
      "LLM predicted misconception:\n",
      " Confuses the order of operations, believes addition comes before multiplication without considering the need for brackets to alter the order of operations\n",
      "\n",
      "Closest cosine similarities from misconception map:\n",
      "['Confuses the order of operations, believes addition comes before multiplication ']\n",
      "['Confuses the order of operations, believes addition comes before division']\n",
      "['Confuses the order of operations, believes subtraction comes before multiplication ']\n",
      "['Believes addition comes before indices, in orders of operation']\n",
      "['Misunderstands order of operations in algebraic expressions']\n",
      "['Does not interpret the correct order of operations in a fraction when there is an addition on the numerator']\n",
      "['Thinks the inverse of multiplication is addition']\n",
      "['Thinks the inverse of addition is multiplication']\n",
      "['May have made a calculation error using the order of operations']\n",
      "['Answers order of operations questions with brackets as if the brackets are not there']\n",
      "['Believes you can add or subtract from inside brackets without expanding when solving an equation']\n",
      "['Does not interpret the correct order of operations from a worded problem']\n",
      "['Confuses the inverse operations of addition and subtraction when rearranging equations']\n",
      "['Does not understand that the numerator and denominator of fractions represent groupings and have the same order of priority as brackets']\n",
      "['Believes multiplication is not commutative']\n",
      "['Thinks a variable next to a number means addition rather than multiplication']\n",
      "['Thinks the inverse of addition is division']\n",
      "['Adds instead of multiplying when expanding bracket']\n",
      "['Thinks the multiplication sign means to add']\n",
      "['Thinks multiplication and addition are the same']\n",
      "['Applies BIDMAS in strict order (does not realize addition and subtraction, and multiplication and division, are of equal priority)']\n",
      "['Believes they must expand brackets before solving an equation']\n",
      "['When asked to multiply fractions, uses the method for adding instead']\n",
      "['When factorising into double brackets, believes the sum of the two values in the brackets equals bx rather than b']\n",
      "['Thinks the inverse of subtraction is multiplication']\n"
     ]
    }
   ],
   "source": [
    "example_question = 2\n",
    "print(\"LLM predicted misconception:\\n\", predicted_misc['MiscPredText'].values[example_question] )\n",
    "print(\"\\nClosest cosine similarities from misconception map:\")\n",
    "for misconception_id in test_sorted_indices[example_question, :25]:\n",
    "    print(misc_map_df.loc[misc_map_df['MisconceptionId'] == misconception_id]['MisconceptionName'].values)"
   ]
  },
  {
   "cell_type": "markdown",
   "id": "9423909a",
   "metadata": {
    "papermill": {
     "duration": 0.031051,
     "end_time": "2024-09-24T06:52:44.731668",
     "exception": false,
     "start_time": "2024-09-24T06:52:44.700617",
     "status": "completed"
    },
    "tags": []
   },
   "source": [
    "# Generate submission / submit!"
   ]
  },
  {
   "cell_type": "code",
   "execution_count": 21,
   "id": "0285d6f5",
   "metadata": {
    "execution": {
     "iopub.execute_input": "2024-09-24T06:52:44.795250Z",
     "iopub.status.busy": "2024-09-24T06:52:44.794853Z",
     "iopub.status.idle": "2024-09-24T06:52:44.811937Z",
     "shell.execute_reply": "2024-09-24T06:52:44.811053Z"
    },
    "papermill": {
     "duration": 0.05114,
     "end_time": "2024-09-24T06:52:44.813897",
     "exception": false,
     "start_time": "2024-09-24T06:52:44.762757",
     "status": "completed"
    },
    "tags": []
   },
   "outputs": [
    {
     "data": {
      "text/html": [
       "<div>\n",
       "<style scoped>\n",
       "    .dataframe tbody tr th:only-of-type {\n",
       "        vertical-align: middle;\n",
       "    }\n",
       "\n",
       "    .dataframe tbody tr th {\n",
       "        vertical-align: top;\n",
       "    }\n",
       "\n",
       "    .dataframe thead th {\n",
       "        text-align: right;\n",
       "    }\n",
       "</style>\n",
       "<table border=\"1\" class=\"dataframe\">\n",
       "  <thead>\n",
       "    <tr style=\"text-align: right;\">\n",
       "      <th></th>\n",
       "      <th>QuestionId_Answer</th>\n",
       "      <th>MisconceptionId</th>\n",
       "    </tr>\n",
       "  </thead>\n",
       "  <tbody>\n",
       "    <tr>\n",
       "      <th>0</th>\n",
       "      <td>1869_B</td>\n",
       "      <td>328 871 2143 2181 488 1941 2131 1672 2051 1862 1361 911 1432 1971 1679 1516 2306 220 1666 2586 373 1345 2085 1119 376</td>\n",
       "    </tr>\n",
       "    <tr>\n",
       "      <th>1</th>\n",
       "      <td>1869_C</td>\n",
       "      <td>1054 1971 1941 234 1514 2586 1963 2273 467 2001 2530 1190 1887 2181 228 1274 969 2518 997 172 1875 1241 1345 1119 1916</td>\n",
       "    </tr>\n",
       "    <tr>\n",
       "      <th>2</th>\n",
       "      <td>1869_D</td>\n",
       "      <td>1672 15 1941 158 2586 1119 516 520 2518 2488 373 1999 1971 1316 638 1205 674 2143 1890 1856 2306 74 1549 1432 481</td>\n",
       "    </tr>\n",
       "    <tr>\n",
       "      <th>3</th>\n",
       "      <td>1870_A</td>\n",
       "      <td>1755 403 1808 1670 891 1610 1044 167 78 1432 102 2247 2173 265 340 838 2291 1628 58 754 346 1976 347 3 744</td>\n",
       "    </tr>\n",
       "    <tr>\n",
       "      <th>4</th>\n",
       "      <td>1870_B</td>\n",
       "      <td>1755 403 1808 1670 891 1610 1044 167 78 1432 102 2247 2173 265 340 838 2291 1628 58 754 346 1976 347 3 744</td>\n",
       "    </tr>\n",
       "    <tr>\n",
       "      <th>5</th>\n",
       "      <td>1870_C</td>\n",
       "      <td>403 891 1928 652 1755 561 2458 1119 58 363 538 78 609 1181 2272 2547 1624 975 1479 1081 1804 1134 289 623 2579</td>\n",
       "    </tr>\n",
       "    <tr>\n",
       "      <th>6</th>\n",
       "      <td>1871_A</td>\n",
       "      <td>1287 1073 129 2575 787 676 365 946 1923 324 1297 1105 837 985 181 2250 1150 1958 2275 1853 153 164 2151 475 1627</td>\n",
       "    </tr>\n",
       "    <tr>\n",
       "      <th>7</th>\n",
       "      <td>1871_C</td>\n",
       "      <td>1287 1073 365 2151 676 2250 129 787 2532 804 2439 164 475 322 324 1923 1105 1297 1237 1958 2575 2548 1349 2323 2552</td>\n",
       "    </tr>\n",
       "    <tr>\n",
       "      <th>8</th>\n",
       "      <td>1871_D</td>\n",
       "      <td>1073 1287 365 1923 2151 1105 1797 2552 1157 1342 2330 1677 1817 1415 1441 1474 322 1182 475 912 2548 711 1198 1079 2412</td>\n",
       "    </tr>\n",
       "  </tbody>\n",
       "</table>\n",
       "</div>"
      ],
      "text/plain": [
       "  QuestionId_Answer  \\\n",
       "0            1869_B   \n",
       "1            1869_C   \n",
       "2            1869_D   \n",
       "3            1870_A   \n",
       "4            1870_B   \n",
       "5            1870_C   \n",
       "6            1871_A   \n",
       "7            1871_C   \n",
       "8            1871_D   \n",
       "\n",
       "                                                                                                           MisconceptionId  \n",
       "0    328 871 2143 2181 488 1941 2131 1672 2051 1862 1361 911 1432 1971 1679 1516 2306 220 1666 2586 373 1345 2085 1119 376  \n",
       "1   1054 1971 1941 234 1514 2586 1963 2273 467 2001 2530 1190 1887 2181 228 1274 969 2518 997 172 1875 1241 1345 1119 1916  \n",
       "2        1672 15 1941 158 2586 1119 516 520 2518 2488 373 1999 1971 1316 638 1205 674 2143 1890 1856 2306 74 1549 1432 481  \n",
       "3               1755 403 1808 1670 891 1610 1044 167 78 1432 102 2247 2173 265 340 838 2291 1628 58 754 346 1976 347 3 744  \n",
       "4               1755 403 1808 1670 891 1610 1044 167 78 1432 102 2247 2173 265 340 838 2291 1628 58 754 346 1976 347 3 744  \n",
       "5           403 891 1928 652 1755 561 2458 1119 58 363 538 78 609 1181 2272 2547 1624 975 1479 1081 1804 1134 289 623 2579  \n",
       "6         1287 1073 129 2575 787 676 365 946 1923 324 1297 1105 837 985 181 2250 1150 1958 2275 1853 153 164 2151 475 1627  \n",
       "7      1287 1073 365 2151 676 2250 129 787 2532 804 2439 164 475 322 324 1923 1105 1297 1237 1958 2575 2548 1349 2323 2552  \n",
       "8  1073 1287 365 1923 2151 1105 1797 2552 1157 1342 2330 1677 1817 1415 1441 1474 322 1182 475 912 2548 711 1198 1079 2412  "
      ]
     },
     "execution_count": 21,
     "metadata": {},
     "output_type": "execute_result"
    }
   ],
   "source": [
    "results = []\n",
    "\n",
    "# Iterate through each row of predicted_misc and corresponding sorted indices\n",
    "for (_, row), indices in zip(predicted_misc.iterrows(), test_sorted_indices):\n",
    "    # Get the QuestionId_Answer\n",
    "    question_id_answer = row['QuestionId_Answer']\n",
    "    \n",
    "    # Get the top 25 misconception indices and join them as a space-separated string\n",
    "    top_25_indices = ' '.join(map(str, indices[:25]))\n",
    "    \n",
    "    # Append the result to our list\n",
    "    results.append({\n",
    "        'QuestionId_Answer': question_id_answer,\n",
    "        'MisconceptionId': top_25_indices\n",
    "    })\n",
    "\n",
    "# Create the submission dataframe\n",
    "submission_df = pd.DataFrame(results)\n",
    "\n",
    "submission_df.to_csv(\"submission.csv\", index=False)\n",
    "\n",
    "submission_df.head(10)"
   ]
  }
 ],
 "metadata": {
  "kaggle": {
   "accelerator": "gpu",
   "dataSources": [
    {
     "databundleVersionId": 9551816,
     "sourceId": 82695,
     "sourceType": "competition"
    },
    {
     "datasetId": 4581967,
     "sourceId": 9463773,
     "sourceType": "datasetVersion"
    },
    {
     "modelId": 33601,
     "modelInstanceId": 23286,
     "sourceId": 27644,
     "sourceType": "modelInstanceVersion"
    },
    {
     "modelId": 123513,
     "modelInstanceId": 99348,
     "sourceId": 118141,
     "sourceType": "modelInstanceVersion"
    },
    {
     "isSourceIdPinned": true,
     "modelId": 123977,
     "modelInstanceId": 99804,
     "sourceId": 118664,
     "sourceType": "modelInstanceVersion"
    }
   ],
   "dockerImageVersionId": 30762,
   "isGpuEnabled": true,
   "isInternetEnabled": false,
   "language": "python",
   "sourceType": "notebook"
  },
  "kernelspec": {
   "display_name": "Python 3",
   "language": "python",
   "name": "python3"
  },
  "language_info": {
   "codemirror_mode": {
    "name": "ipython",
    "version": 3
   },
   "file_extension": ".py",
   "mimetype": "text/x-python",
   "name": "python",
   "nbconvert_exporter": "python",
   "pygments_lexer": "ipython3",
   "version": "3.10.14"
  },
  "papermill": {
   "default_parameters": {},
   "duration": 203.761362,
   "end_time": "2024-09-24T06:52:47.763580",
   "environment_variables": {},
   "exception": null,
   "input_path": "__notebook__.ipynb",
   "output_path": "__notebook__.ipynb",
   "parameters": {},
   "start_time": "2024-09-24T06:49:24.002218",
   "version": "2.5.0"
  },
  "widgets": {
   "application/vnd.jupyter.widget-state+json": {
    "state": {
     "01aa0e59d9334ea2be7b6a66c6ab347d": {
      "model_module": "@jupyter-widgets/controls",
      "model_module_version": "1.5.0",
      "model_name": "ProgressStyleModel",
      "state": {
       "_model_module": "@jupyter-widgets/controls",
       "_model_module_version": "1.5.0",
       "_model_name": "ProgressStyleModel",
       "_view_count": null,
       "_view_module": "@jupyter-widgets/base",
       "_view_module_version": "1.2.0",
       "_view_name": "StyleView",
       "bar_color": null,
       "description_width": ""
      }
     },
     "0436966a0f494ea491696ae7d72870cd": {
      "model_module": "@jupyter-widgets/base",
      "model_module_version": "1.2.0",
      "model_name": "LayoutModel",
      "state": {
       "_model_module": "@jupyter-widgets/base",
       "_model_module_version": "1.2.0",
       "_model_name": "LayoutModel",
       "_view_count": null,
       "_view_module": "@jupyter-widgets/base",
       "_view_module_version": "1.2.0",
       "_view_name": "LayoutView",
       "align_content": null,
       "align_items": null,
       "align_self": null,
       "border": null,
       "bottom": null,
       "display": null,
       "flex": null,
       "flex_flow": null,
       "grid_area": null,
       "grid_auto_columns": null,
       "grid_auto_flow": null,
       "grid_auto_rows": null,
       "grid_column": null,
       "grid_gap": null,
       "grid_row": null,
       "grid_template_areas": null,
       "grid_template_columns": null,
       "grid_template_rows": null,
       "height": null,
       "justify_content": null,
       "justify_items": null,
       "left": null,
       "margin": null,
       "max_height": null,
       "max_width": null,
       "min_height": null,
       "min_width": null,
       "object_fit": null,
       "object_position": null,
       "order": null,
       "overflow": null,
       "overflow_x": null,
       "overflow_y": null,
       "padding": null,
       "right": null,
       "top": null,
       "visibility": null,
       "width": null
      }
     },
     "61bf4490e7624d8db29f102c339d1a00": {
      "model_module": "@jupyter-widgets/controls",
      "model_module_version": "1.5.0",
      "model_name": "HBoxModel",
      "state": {
       "_dom_classes": [],
       "_model_module": "@jupyter-widgets/controls",
       "_model_module_version": "1.5.0",
       "_model_name": "HBoxModel",
       "_view_count": null,
       "_view_module": "@jupyter-widgets/controls",
       "_view_module_version": "1.5.0",
       "_view_name": "HBoxView",
       "box_style": "",
       "children": [
        "IPY_MODEL_99dbfdb5226a44e0b025520caafdc8fe",
        "IPY_MODEL_696160f10f0f4e04a9ad634c781fb211",
        "IPY_MODEL_8bcca24603f44bd4844d3015cb506f89"
       ],
       "layout": "IPY_MODEL_0436966a0f494ea491696ae7d72870cd"
      }
     },
     "696160f10f0f4e04a9ad634c781fb211": {
      "model_module": "@jupyter-widgets/controls",
      "model_module_version": "1.5.0",
      "model_name": "FloatProgressModel",
      "state": {
       "_dom_classes": [],
       "_model_module": "@jupyter-widgets/controls",
       "_model_module_version": "1.5.0",
       "_model_name": "FloatProgressModel",
       "_view_count": null,
       "_view_module": "@jupyter-widgets/controls",
       "_view_module_version": "1.5.0",
       "_view_name": "ProgressView",
       "bar_style": "success",
       "description": "",
       "description_tooltip": null,
       "layout": "IPY_MODEL_a77e3e6b093744cd936a838cc0b71a1d",
       "max": 2,
       "min": 0,
       "orientation": "horizontal",
       "style": "IPY_MODEL_01aa0e59d9334ea2be7b6a66c6ab347d",
       "value": 2
      }
     },
     "6e11e0a0ae914c11a0a4dc5921ecaa9a": {
      "model_module": "@jupyter-widgets/controls",
      "model_module_version": "1.5.0",
      "model_name": "DescriptionStyleModel",
      "state": {
       "_model_module": "@jupyter-widgets/controls",
       "_model_module_version": "1.5.0",
       "_model_name": "DescriptionStyleModel",
       "_view_count": null,
       "_view_module": "@jupyter-widgets/base",
       "_view_module_version": "1.2.0",
       "_view_name": "StyleView",
       "description_width": ""
      }
     },
     "76b63e4ceff141d2a6005c3b368a1909": {
      "model_module": "@jupyter-widgets/base",
      "model_module_version": "1.2.0",
      "model_name": "LayoutModel",
      "state": {
       "_model_module": "@jupyter-widgets/base",
       "_model_module_version": "1.2.0",
       "_model_name": "LayoutModel",
       "_view_count": null,
       "_view_module": "@jupyter-widgets/base",
       "_view_module_version": "1.2.0",
       "_view_name": "LayoutView",
       "align_content": null,
       "align_items": null,
       "align_self": null,
       "border": null,
       "bottom": null,
       "display": null,
       "flex": null,
       "flex_flow": null,
       "grid_area": null,
       "grid_auto_columns": null,
       "grid_auto_flow": null,
       "grid_auto_rows": null,
       "grid_column": null,
       "grid_gap": null,
       "grid_row": null,
       "grid_template_areas": null,
       "grid_template_columns": null,
       "grid_template_rows": null,
       "height": null,
       "justify_content": null,
       "justify_items": null,
       "left": null,
       "margin": null,
       "max_height": null,
       "max_width": null,
       "min_height": null,
       "min_width": null,
       "object_fit": null,
       "object_position": null,
       "order": null,
       "overflow": null,
       "overflow_x": null,
       "overflow_y": null,
       "padding": null,
       "right": null,
       "top": null,
       "visibility": null,
       "width": null
      }
     },
     "8bcca24603f44bd4844d3015cb506f89": {
      "model_module": "@jupyter-widgets/controls",
      "model_module_version": "1.5.0",
      "model_name": "HTMLModel",
      "state": {
       "_dom_classes": [],
       "_model_module": "@jupyter-widgets/controls",
       "_model_module_version": "1.5.0",
       "_model_name": "HTMLModel",
       "_view_count": null,
       "_view_module": "@jupyter-widgets/controls",
       "_view_module_version": "1.5.0",
       "_view_name": "HTMLView",
       "description": "",
       "description_tooltip": null,
       "layout": "IPY_MODEL_da5de29e089344a0bc882d3a584c3ee2",
       "placeholder": "​",
       "style": "IPY_MODEL_6e11e0a0ae914c11a0a4dc5921ecaa9a",
       "value": " 2/2 [00:58&lt;00:00, 27.65s/it]"
      }
     },
     "99dbfdb5226a44e0b025520caafdc8fe": {
      "model_module": "@jupyter-widgets/controls",
      "model_module_version": "1.5.0",
      "model_name": "HTMLModel",
      "state": {
       "_dom_classes": [],
       "_model_module": "@jupyter-widgets/controls",
       "_model_module_version": "1.5.0",
       "_model_name": "HTMLModel",
       "_view_count": null,
       "_view_module": "@jupyter-widgets/controls",
       "_view_module_version": "1.5.0",
       "_view_name": "HTMLView",
       "description": "",
       "description_tooltip": null,
       "layout": "IPY_MODEL_76b63e4ceff141d2a6005c3b368a1909",
       "placeholder": "​",
       "style": "IPY_MODEL_eeb8c5435b7f414cb05e5be136a3e306",
       "value": "Loading checkpoint shards: 100%"
      }
     },
     "a77e3e6b093744cd936a838cc0b71a1d": {
      "model_module": "@jupyter-widgets/base",
      "model_module_version": "1.2.0",
      "model_name": "LayoutModel",
      "state": {
       "_model_module": "@jupyter-widgets/base",
       "_model_module_version": "1.2.0",
       "_model_name": "LayoutModel",
       "_view_count": null,
       "_view_module": "@jupyter-widgets/base",
       "_view_module_version": "1.2.0",
       "_view_name": "LayoutView",
       "align_content": null,
       "align_items": null,
       "align_self": null,
       "border": null,
       "bottom": null,
       "display": null,
       "flex": null,
       "flex_flow": null,
       "grid_area": null,
       "grid_auto_columns": null,
       "grid_auto_flow": null,
       "grid_auto_rows": null,
       "grid_column": null,
       "grid_gap": null,
       "grid_row": null,
       "grid_template_areas": null,
       "grid_template_columns": null,
       "grid_template_rows": null,
       "height": null,
       "justify_content": null,
       "justify_items": null,
       "left": null,
       "margin": null,
       "max_height": null,
       "max_width": null,
       "min_height": null,
       "min_width": null,
       "object_fit": null,
       "object_position": null,
       "order": null,
       "overflow": null,
       "overflow_x": null,
       "overflow_y": null,
       "padding": null,
       "right": null,
       "top": null,
       "visibility": null,
       "width": null
      }
     },
     "da5de29e089344a0bc882d3a584c3ee2": {
      "model_module": "@jupyter-widgets/base",
      "model_module_version": "1.2.0",
      "model_name": "LayoutModel",
      "state": {
       "_model_module": "@jupyter-widgets/base",
       "_model_module_version": "1.2.0",
       "_model_name": "LayoutModel",
       "_view_count": null,
       "_view_module": "@jupyter-widgets/base",
       "_view_module_version": "1.2.0",
       "_view_name": "LayoutView",
       "align_content": null,
       "align_items": null,
       "align_self": null,
       "border": null,
       "bottom": null,
       "display": null,
       "flex": null,
       "flex_flow": null,
       "grid_area": null,
       "grid_auto_columns": null,
       "grid_auto_flow": null,
       "grid_auto_rows": null,
       "grid_column": null,
       "grid_gap": null,
       "grid_row": null,
       "grid_template_areas": null,
       "grid_template_columns": null,
       "grid_template_rows": null,
       "height": null,
       "justify_content": null,
       "justify_items": null,
       "left": null,
       "margin": null,
       "max_height": null,
       "max_width": null,
       "min_height": null,
       "min_width": null,
       "object_fit": null,
       "object_position": null,
       "order": null,
       "overflow": null,
       "overflow_x": null,
       "overflow_y": null,
       "padding": null,
       "right": null,
       "top": null,
       "visibility": null,
       "width": null
      }
     },
     "eeb8c5435b7f414cb05e5be136a3e306": {
      "model_module": "@jupyter-widgets/controls",
      "model_module_version": "1.5.0",
      "model_name": "DescriptionStyleModel",
      "state": {
       "_model_module": "@jupyter-widgets/controls",
       "_model_module_version": "1.5.0",
       "_model_name": "DescriptionStyleModel",
       "_view_count": null,
       "_view_module": "@jupyter-widgets/base",
       "_view_module_version": "1.2.0",
       "_view_name": "StyleView",
       "description_width": ""
      }
     }
    },
    "version_major": 2,
    "version_minor": 0
   }
  }
 },
 "nbformat": 4,
 "nbformat_minor": 5
}
